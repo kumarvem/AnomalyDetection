{
 "cells": [
  {
   "cell_type": "markdown",
   "metadata": {},
   "source": [
    "# Libarary"
   ]
  },
  {
   "cell_type": "code",
   "execution_count": 1,
   "metadata": {},
   "outputs": [],
   "source": [
    "import numpy as np\n",
    "import matplotlib.pyplot as plt\n",
    "import seaborn as sns\n",
    "import matplotlib\n",
    "import pandas as pd"
   ]
  },
  {
   "cell_type": "code",
   "execution_count": 10,
   "metadata": {},
   "outputs": [],
   "source": [
    "from sklearn.linear_model import LogisticRegression"
   ]
  },
  {
   "cell_type": "code",
   "execution_count": 12,
   "metadata": {},
   "outputs": [],
   "source": [
    "from sklearn.model_selection import train_test_split\n",
    "import seaborn as sns\n",
    "sns.set(style=\"white\")\n",
    "sns.set(style=\"whitegrid\", color_codes=True)"
   ]
  },
  {
   "cell_type": "code",
   "execution_count": 45,
   "metadata": {},
   "outputs": [],
   "source": [
    "from sklearn import metrics"
   ]
  },
  {
   "cell_type": "code",
   "execution_count": null,
   "metadata": {},
   "outputs": [],
   "source": [
    "from imblearn.over_sampling import SMOTE"
   ]
  },
  {
   "cell_type": "markdown",
   "metadata": {},
   "source": [
    "# Read data"
   ]
  },
  {
   "cell_type": "code",
   "execution_count": 2,
   "metadata": {},
   "outputs": [],
   "source": [
    "df = pd.read_csv('/home/ubuntu/Zabbix/Data/MODEL_DATA/Anomaly_Data/SRV_FR_SQLN_11/SRV_FR_SQLN_11_ANOMALY_COL_NAME.csv')"
   ]
  },
  {
   "cell_type": "code",
   "execution_count": 3,
   "metadata": {},
   "outputs": [
    {
     "data": {
      "text/plain": [
       "(45270, 141)"
      ]
     },
     "execution_count": 3,
     "metadata": {},
     "output_type": "execute_result"
    }
   ],
   "source": [
    "df.shape"
   ]
  },
  {
   "cell_type": "code",
   "execution_count": 4,
   "metadata": {},
   "outputs": [
    {
     "data": {
      "text/html": [
       "<div>\n",
       "<style scoped>\n",
       "    .dataframe tbody tr th:only-of-type {\n",
       "        vertical-align: middle;\n",
       "    }\n",
       "\n",
       "    .dataframe tbody tr th {\n",
       "        vertical-align: top;\n",
       "    }\n",
       "\n",
       "    .dataframe thead th {\n",
       "        text-align: right;\n",
       "    }\n",
       "</style>\n",
       "<table border=\"1\" class=\"dataframe\">\n",
       "  <thead>\n",
       "    <tr style=\"text-align: right;\">\n",
       "      <th></th>\n",
       "      <th>Date_Time</th>\n",
       "      <th>Total disk space on K:</th>\n",
       "      <th>Total disk space on J:</th>\n",
       "      <th>Total disk space on N:\\LOGS</th>\n",
       "      <th>Total disk space on N:</th>\n",
       "      <th>SQL Server, Locks: Lock Waits per second (Total)</th>\n",
       "      <th>SQL Server, Buffer Manager: Page reads/sec</th>\n",
       "      <th>Outgoing network traffic on vmxnet3 Ethernet Adapter-WFP Native MAC Layer LightWeight Filter-0000</th>\n",
       "      <th>SQL Server, Locks: Number of Deadlocks/sec (Total)</th>\n",
       "      <th>Free disk space on V:</th>\n",
       "      <th>...</th>\n",
       "      <th>Free disk space on H:\\LOGS</th>\n",
       "      <th>Free disk space on Q:</th>\n",
       "      <th>SQL Server, Memory Manager: Memory Grants Pending</th>\n",
       "      <th>Free disk space on S:</th>\n",
       "      <th>SQL Server, Cache: Cache Hit Ratio</th>\n",
       "      <th>Anomaly</th>\n",
       "      <th>Anomaly_Score</th>\n",
       "      <th>Anomaly_Feature_1_1</th>\n",
       "      <th>Anomaly_Feature_2_2</th>\n",
       "      <th>Anomaly_Feature_3_3</th>\n",
       "    </tr>\n",
       "  </thead>\n",
       "  <tbody>\n",
       "    <tr>\n",
       "      <th>0</th>\n",
       "      <td>2020-06-16 05:17:00</td>\n",
       "      <td>8.938692e+11</td>\n",
       "      <td>9.663355e+10</td>\n",
       "      <td>5.365498e+09</td>\n",
       "      <td>2.899071e+11</td>\n",
       "      <td>0.0</td>\n",
       "      <td>0.0</td>\n",
       "      <td>1914432.0</td>\n",
       "      <td>0.0</td>\n",
       "      <td>1.661783e+10</td>\n",
       "      <td>...</td>\n",
       "      <td>4.689887e+09</td>\n",
       "      <td>3.090481e+10</td>\n",
       "      <td>0.0</td>\n",
       "      <td>1.396507e+10</td>\n",
       "      <td>81.8883</td>\n",
       "      <td>1</td>\n",
       "      <td>0.120815</td>\n",
       "      <td>SQL Server: Number of Blocked Processes</td>\n",
       "      <td>Free disk space on J:\\LOGS</td>\n",
       "      <td>Free disk space on J:</td>\n",
       "    </tr>\n",
       "  </tbody>\n",
       "</table>\n",
       "<p>1 rows × 141 columns</p>\n",
       "</div>"
      ],
      "text/plain": [
       "             Date_Time  Total disk space on K:  Total disk space on J:  \\\n",
       "0  2020-06-16 05:17:00            8.938692e+11            9.663355e+10   \n",
       "\n",
       "   Total disk space on N:\\LOGS  Total disk space on N:  \\\n",
       "0                 5.365498e+09            2.899071e+11   \n",
       "\n",
       "   SQL Server, Locks: Lock Waits per second (Total)  \\\n",
       "0                                               0.0   \n",
       "\n",
       "   SQL Server, Buffer Manager: Page reads/sec  \\\n",
       "0                                         0.0   \n",
       "\n",
       "   Outgoing network traffic on vmxnet3 Ethernet Adapter-WFP Native MAC Layer LightWeight Filter-0000  \\\n",
       "0                                          1914432.0                                                   \n",
       "\n",
       "   SQL Server, Locks: Number of Deadlocks/sec (Total)  Free disk space on V:  \\\n",
       "0                                                0.0            1.661783e+10   \n",
       "\n",
       "   ...  Free disk space on H:\\LOGS  Free disk space on Q:  \\\n",
       "0  ...                4.689887e+09           3.090481e+10   \n",
       "\n",
       "   SQL Server, Memory Manager: Memory Grants Pending  Free disk space on S:  \\\n",
       "0                                                0.0           1.396507e+10   \n",
       "\n",
       "   SQL Server, Cache: Cache Hit Ratio  Anomaly  Anomaly_Score  \\\n",
       "0                             81.8883        1       0.120815   \n",
       "\n",
       "                       Anomaly_Feature_1_1         Anomaly_Feature_2_2  \\\n",
       "0  SQL Server: Number of Blocked Processes  Free disk space on J:\\LOGS   \n",
       "\n",
       "     Anomaly_Feature_3_3  \n",
       "0  Free disk space on J:  \n",
       "\n",
       "[1 rows x 141 columns]"
      ]
     },
     "execution_count": 4,
     "metadata": {},
     "output_type": "execute_result"
    }
   ],
   "source": [
    "df.head(1)"
   ]
  },
  {
   "cell_type": "code",
   "execution_count": null,
   "metadata": {},
   "outputs": [],
   "source": []
  },
  {
   "cell_type": "code",
   "execution_count": 5,
   "metadata": {},
   "outputs": [],
   "source": [
    "# Filtering only the anomaly data from all data\n",
    "anomaly_df = df[df['Anomaly'] == -1]"
   ]
  },
  {
   "cell_type": "code",
   "execution_count": 14,
   "metadata": {},
   "outputs": [
    {
     "data": {
      "text/plain": [
       "(252, 141)"
      ]
     },
     "execution_count": 14,
     "metadata": {},
     "output_type": "execute_result"
    }
   ],
   "source": [
    "anomaly_df.shape"
   ]
  },
  {
   "cell_type": "code",
   "execution_count": 8,
   "metadata": {},
   "outputs": [],
   "source": [
    "# Classification1\n",
    "## Classification model for anomaly_feature_1_1"
   ]
  },
  {
   "cell_type": "code",
   "execution_count": 27,
   "metadata": {},
   "outputs": [],
   "source": [
    "# df_1 for only classifiaction of feature_1_1\n",
    "feat_1_col = [x for x in anomaly_df.columns if x not in ['Date_Time','Anomaly' ,'Anomaly_Score', 'Anomaly_Feature_2_2','Anomaly_Feature_3_3']]\n",
    "df_1 = anomaly_df[feat_1_col]\n"
   ]
  },
  {
   "cell_type": "code",
   "execution_count": 28,
   "metadata": {},
   "outputs": [
    {
     "data": {
      "text/plain": [
       "(252, 136)"
      ]
     },
     "execution_count": 28,
     "metadata": {},
     "output_type": "execute_result"
    }
   ],
   "source": [
    "df_1.shape"
   ]
  },
  {
   "cell_type": "code",
   "execution_count": 29,
   "metadata": {},
   "outputs": [],
   "source": [
    "X = df_1.loc[:, df_1.columns != 'Anomaly_Feature_1_1']\n",
    "y = df_1.loc[:, df_1.columns == 'Anomaly_Feature_1_1']"
   ]
  },
  {
   "cell_type": "code",
   "execution_count": 30,
   "metadata": {},
   "outputs": [],
   "source": [
    "\n",
    "os = SMOTE(random_state=0)\n",
    "X_train, X_test, y_train, y_test = train_test_split(X, y, test_size=0.3, random_state=0)\n",
    "columns = X_train.columns"
   ]
  },
  {
   "cell_type": "code",
   "execution_count": 31,
   "metadata": {},
   "outputs": [
    {
     "data": {
      "text/plain": [
       "'SQL Server, Cache: Cache Hit Ratio'"
      ]
     },
     "execution_count": 31,
     "metadata": {},
     "output_type": "execute_result"
    }
   ],
   "source": [
    "X_train.columns[-1]"
   ]
  },
  {
   "cell_type": "code",
   "execution_count": 40,
   "metadata": {},
   "outputs": [
    {
     "data": {
      "text/plain": [
       "Free disk space on H:                           88\n",
       "Free disk space on N:                           34\n",
       "Free disk space on D:                           21\n",
       "Free disk space on M:                           16\n",
       "SQL Server, Buffer Manager: Lazy writes/sec      3\n",
       "SQL Server: Logins/sec                           3\n",
       "Total disk space on K:                           2\n",
       "Total disk space on P:                           2\n",
       "SQL Server, Memory Manager: Granted Workspac     1\n",
       "SQL Server, Buffer Manager: % Buffer cache h     1\n",
       "SQL Server: % Processor Time                     1\n",
       "Processor load (15 min average)                  1\n",
       "SQL Server, Latches: Total Latch Wait Time       1\n",
       "SQL Server, Locks: Number of Deadlocks/sec (     1\n",
       "SQL Server, Memory Manager: Memory Grants Ou     1\n",
       "Name: Anomaly_Feature_1_1, dtype: int64"
      ]
     },
     "execution_count": 40,
     "metadata": {},
     "output_type": "execute_result"
    }
   ],
   "source": [
    "y_train['Anomaly_Feature_1_1'].value_counts()"
   ]
  },
  {
   "cell_type": "code",
   "execution_count": 41,
   "metadata": {},
   "outputs": [],
   "source": [
    "# os_data_X,os_data_y=os.fit_resample(X_train, y_train)"
   ]
  },
  {
   "cell_type": "code",
   "execution_count": 43,
   "metadata": {},
   "outputs": [],
   "source": [
    "# os_data_X = pd.DataFrame(data=os_data_X,columns=columns )\n",
    "# os_data_y= pd.DataFrame(data=os_data_y,columns=['Anomaly_Feature_1_1'])"
   ]
  },
  {
   "cell_type": "code",
   "execution_count": 44,
   "metadata": {},
   "outputs": [],
   "source": [
    "# Model "
   ]
  },
  {
   "cell_type": "code",
   "execution_count": 48,
   "metadata": {},
   "outputs": [
    {
     "name": "stdout",
     "output_type": "stream",
     "text": [
      "X train (176, 135)\n",
      "y train (176, 1)\n"
     ]
    }
   ],
   "source": [
    "print('X train',X_train.shape)\n",
    "print('y train', y_train.shape)\n"
   ]
  },
  {
   "cell_type": "code",
   "execution_count": 50,
   "metadata": {},
   "outputs": [],
   "source": [
    "# Data preprocessing\n",
    "from sklearn.preprocessing import StandardScaler"
   ]
  },
  {
   "cell_type": "code",
   "execution_count": 51,
   "metadata": {},
   "outputs": [],
   "source": [
    "scaler = StandardScaler()\n",
    "X_train_scaled = scaler.fit_transform(X_train)"
   ]
  },
  {
   "cell_type": "code",
   "execution_count": 52,
   "metadata": {},
   "outputs": [],
   "source": [
    "logreg1 = LogisticRegression()"
   ]
  },
  {
   "cell_type": "code",
   "execution_count": 53,
   "metadata": {
    "collapsed": true,
    "jupyter": {
     "outputs_hidden": true
    }
   },
   "outputs": [
    {
     "name": "stderr",
     "output_type": "stream",
     "text": [
      "/home/ubuntu/anaconda3/envs/zabbix/lib/python3.8/site-packages/sklearn/utils/validation.py:73: DataConversionWarning: A column-vector y was passed when a 1d array was expected. Please change the shape of y to (n_samples, ), for example using ravel().\n",
      "  return f(**kwargs)\n",
      "/home/ubuntu/anaconda3/envs/zabbix/lib/python3.8/site-packages/sklearn/linear_model/_logistic.py:762: ConvergenceWarning: lbfgs failed to converge (status=1):\n",
      "STOP: TOTAL NO. of ITERATIONS REACHED LIMIT.\n",
      "\n",
      "Increase the number of iterations (max_iter) or scale the data as shown in:\n",
      "    https://scikit-learn.org/stable/modules/preprocessing.html\n",
      "Please also refer to the documentation for alternative solver options:\n",
      "    https://scikit-learn.org/stable/modules/linear_model.html#logistic-regression\n",
      "  n_iter_i = _check_optimize_result(\n"
     ]
    },
    {
     "data": {
      "text/plain": [
       "LogisticRegression()"
      ]
     },
     "execution_count": 53,
     "metadata": {},
     "output_type": "execute_result"
    }
   ],
   "source": [
    "logreg1.fit(X_train_scaled, y_train)"
   ]
  },
  {
   "cell_type": "code",
   "execution_count": 54,
   "metadata": {},
   "outputs": [],
   "source": [
    "\n",
    "# scaling X_test\n",
    "X_test_scaled = scaler.transform(X_test)"
   ]
  },
  {
   "cell_type": "code",
   "execution_count": 99,
   "metadata": {},
   "outputs": [
    {
     "name": "stdout",
     "output_type": "stream",
     "text": [
      "Accuracy of logistic regression classifier on test set: 0.50\n"
     ]
    }
   ],
   "source": [
    "y_pred = logreg1.predict(X_test_scaled)\n",
    "print('Accuracy of logistic regression classifier on test set: {:.2f}'.format(logreg1.score(X_test_scaled, y_test)))"
   ]
  },
  {
   "cell_type": "code",
   "execution_count": 108,
   "metadata": {},
   "outputs": [
    {
     "name": "stdout",
     "output_type": "stream",
     "text": [
      "Accuracy of model on test set: 0.50\n"
     ]
    }
   ],
   "source": [
    "print('Accuracy of model on test set: {:.2f}'.format(metrics.accuracy_score(y_pred,y_test)))"
   ]
  },
  {
   "cell_type": "code",
   "execution_count": 98,
   "metadata": {},
   "outputs": [
    {
     "ename": "ValueError",
     "evalue": "could not convert string to float: 'Free disk space on H:'",
     "output_type": "error",
     "traceback": [
      "\u001b[0;31m---------------------------------------------------------------------------\u001b[0m",
      "\u001b[0;31mValueError\u001b[0m                                Traceback (most recent call last)",
      "\u001b[0;32m<ipython-input-98-d297cd514508>\u001b[0m in \u001b[0;36m<module>\u001b[0;34m\u001b[0m\n\u001b[0;32m----> 1\u001b[0;31m \u001b[0mprint\u001b[0m\u001b[0;34m(\u001b[0m\u001b[0;34m'Accuracy of logistic regression classifier on test set: {:.2f}'\u001b[0m\u001b[0;34m.\u001b[0m\u001b[0mformat\u001b[0m\u001b[0;34m(\u001b[0m\u001b[0mlogreg1\u001b[0m\u001b[0;34m.\u001b[0m\u001b[0mscore\u001b[0m\u001b[0;34m(\u001b[0m\u001b[0my_test\u001b[0m\u001b[0;34m,\u001b[0m \u001b[0my_pred\u001b[0m\u001b[0;34m)\u001b[0m\u001b[0;34m)\u001b[0m\u001b[0;34m)\u001b[0m\u001b[0;34m\u001b[0m\u001b[0;34m\u001b[0m\u001b[0m\n\u001b[0m",
      "\u001b[0;32m~/anaconda3/envs/zabbix/lib/python3.8/site-packages/sklearn/base.py\u001b[0m in \u001b[0;36mscore\u001b[0;34m(self, X, y, sample_weight)\u001b[0m\n\u001b[1;32m    497\u001b[0m         \"\"\"\n\u001b[1;32m    498\u001b[0m         \u001b[0;32mfrom\u001b[0m \u001b[0;34m.\u001b[0m\u001b[0mmetrics\u001b[0m \u001b[0;32mimport\u001b[0m \u001b[0maccuracy_score\u001b[0m\u001b[0;34m\u001b[0m\u001b[0;34m\u001b[0m\u001b[0m\n\u001b[0;32m--> 499\u001b[0;31m         \u001b[0;32mreturn\u001b[0m \u001b[0maccuracy_score\u001b[0m\u001b[0;34m(\u001b[0m\u001b[0my\u001b[0m\u001b[0;34m,\u001b[0m \u001b[0mself\u001b[0m\u001b[0;34m.\u001b[0m\u001b[0mpredict\u001b[0m\u001b[0;34m(\u001b[0m\u001b[0mX\u001b[0m\u001b[0;34m)\u001b[0m\u001b[0;34m,\u001b[0m \u001b[0msample_weight\u001b[0m\u001b[0;34m=\u001b[0m\u001b[0msample_weight\u001b[0m\u001b[0;34m)\u001b[0m\u001b[0;34m\u001b[0m\u001b[0;34m\u001b[0m\u001b[0m\n\u001b[0m\u001b[1;32m    500\u001b[0m \u001b[0;34m\u001b[0m\u001b[0m\n\u001b[1;32m    501\u001b[0m     \u001b[0;32mdef\u001b[0m \u001b[0m_more_tags\u001b[0m\u001b[0;34m(\u001b[0m\u001b[0mself\u001b[0m\u001b[0;34m)\u001b[0m\u001b[0;34m:\u001b[0m\u001b[0;34m\u001b[0m\u001b[0;34m\u001b[0m\u001b[0m\n",
      "\u001b[0;32m~/anaconda3/envs/zabbix/lib/python3.8/site-packages/sklearn/linear_model/_base.py\u001b[0m in \u001b[0;36mpredict\u001b[0;34m(self, X)\u001b[0m\n\u001b[1;32m    305\u001b[0m             \u001b[0mPredicted\u001b[0m \u001b[0;32mclass\u001b[0m \u001b[0mlabel\u001b[0m \u001b[0mper\u001b[0m \u001b[0msample\u001b[0m\u001b[0;34m.\u001b[0m\u001b[0;34m\u001b[0m\u001b[0;34m\u001b[0m\u001b[0m\n\u001b[1;32m    306\u001b[0m         \"\"\"\n\u001b[0;32m--> 307\u001b[0;31m         \u001b[0mscores\u001b[0m \u001b[0;34m=\u001b[0m \u001b[0mself\u001b[0m\u001b[0;34m.\u001b[0m\u001b[0mdecision_function\u001b[0m\u001b[0;34m(\u001b[0m\u001b[0mX\u001b[0m\u001b[0;34m)\u001b[0m\u001b[0;34m\u001b[0m\u001b[0;34m\u001b[0m\u001b[0m\n\u001b[0m\u001b[1;32m    308\u001b[0m         \u001b[0;32mif\u001b[0m \u001b[0mlen\u001b[0m\u001b[0;34m(\u001b[0m\u001b[0mscores\u001b[0m\u001b[0;34m.\u001b[0m\u001b[0mshape\u001b[0m\u001b[0;34m)\u001b[0m \u001b[0;34m==\u001b[0m \u001b[0;36m1\u001b[0m\u001b[0;34m:\u001b[0m\u001b[0;34m\u001b[0m\u001b[0;34m\u001b[0m\u001b[0m\n\u001b[1;32m    309\u001b[0m             \u001b[0mindices\u001b[0m \u001b[0;34m=\u001b[0m \u001b[0;34m(\u001b[0m\u001b[0mscores\u001b[0m \u001b[0;34m>\u001b[0m \u001b[0;36m0\u001b[0m\u001b[0;34m)\u001b[0m\u001b[0;34m.\u001b[0m\u001b[0mastype\u001b[0m\u001b[0;34m(\u001b[0m\u001b[0mnp\u001b[0m\u001b[0;34m.\u001b[0m\u001b[0mint\u001b[0m\u001b[0;34m)\u001b[0m\u001b[0;34m\u001b[0m\u001b[0;34m\u001b[0m\u001b[0m\n",
      "\u001b[0;32m~/anaconda3/envs/zabbix/lib/python3.8/site-packages/sklearn/linear_model/_base.py\u001b[0m in \u001b[0;36mdecision_function\u001b[0;34m(self, X)\u001b[0m\n\u001b[1;32m    280\u001b[0m         \u001b[0mcheck_is_fitted\u001b[0m\u001b[0;34m(\u001b[0m\u001b[0mself\u001b[0m\u001b[0;34m)\u001b[0m\u001b[0;34m\u001b[0m\u001b[0;34m\u001b[0m\u001b[0m\n\u001b[1;32m    281\u001b[0m \u001b[0;34m\u001b[0m\u001b[0m\n\u001b[0;32m--> 282\u001b[0;31m         \u001b[0mX\u001b[0m \u001b[0;34m=\u001b[0m \u001b[0mcheck_array\u001b[0m\u001b[0;34m(\u001b[0m\u001b[0mX\u001b[0m\u001b[0;34m,\u001b[0m \u001b[0maccept_sparse\u001b[0m\u001b[0;34m=\u001b[0m\u001b[0;34m'csr'\u001b[0m\u001b[0;34m)\u001b[0m\u001b[0;34m\u001b[0m\u001b[0;34m\u001b[0m\u001b[0m\n\u001b[0m\u001b[1;32m    283\u001b[0m \u001b[0;34m\u001b[0m\u001b[0m\n\u001b[1;32m    284\u001b[0m         \u001b[0mn_features\u001b[0m \u001b[0;34m=\u001b[0m \u001b[0mself\u001b[0m\u001b[0;34m.\u001b[0m\u001b[0mcoef_\u001b[0m\u001b[0;34m.\u001b[0m\u001b[0mshape\u001b[0m\u001b[0;34m[\u001b[0m\u001b[0;36m1\u001b[0m\u001b[0;34m]\u001b[0m\u001b[0;34m\u001b[0m\u001b[0;34m\u001b[0m\u001b[0m\n",
      "\u001b[0;32m~/anaconda3/envs/zabbix/lib/python3.8/site-packages/sklearn/utils/validation.py\u001b[0m in \u001b[0;36minner_f\u001b[0;34m(*args, **kwargs)\u001b[0m\n\u001b[1;32m     71\u001b[0m                           FutureWarning)\n\u001b[1;32m     72\u001b[0m         \u001b[0mkwargs\u001b[0m\u001b[0;34m.\u001b[0m\u001b[0mupdate\u001b[0m\u001b[0;34m(\u001b[0m\u001b[0;34m{\u001b[0m\u001b[0mk\u001b[0m\u001b[0;34m:\u001b[0m \u001b[0marg\u001b[0m \u001b[0;32mfor\u001b[0m \u001b[0mk\u001b[0m\u001b[0;34m,\u001b[0m \u001b[0marg\u001b[0m \u001b[0;32min\u001b[0m \u001b[0mzip\u001b[0m\u001b[0;34m(\u001b[0m\u001b[0msig\u001b[0m\u001b[0;34m.\u001b[0m\u001b[0mparameters\u001b[0m\u001b[0;34m,\u001b[0m \u001b[0margs\u001b[0m\u001b[0;34m)\u001b[0m\u001b[0;34m}\u001b[0m\u001b[0;34m)\u001b[0m\u001b[0;34m\u001b[0m\u001b[0;34m\u001b[0m\u001b[0m\n\u001b[0;32m---> 73\u001b[0;31m         \u001b[0;32mreturn\u001b[0m \u001b[0mf\u001b[0m\u001b[0;34m(\u001b[0m\u001b[0;34m**\u001b[0m\u001b[0mkwargs\u001b[0m\u001b[0;34m)\u001b[0m\u001b[0;34m\u001b[0m\u001b[0;34m\u001b[0m\u001b[0m\n\u001b[0m\u001b[1;32m     74\u001b[0m     \u001b[0;32mreturn\u001b[0m \u001b[0minner_f\u001b[0m\u001b[0;34m\u001b[0m\u001b[0;34m\u001b[0m\u001b[0m\n\u001b[1;32m     75\u001b[0m \u001b[0;34m\u001b[0m\u001b[0m\n",
      "\u001b[0;32m~/anaconda3/envs/zabbix/lib/python3.8/site-packages/sklearn/utils/validation.py\u001b[0m in \u001b[0;36mcheck_array\u001b[0;34m(array, accept_sparse, accept_large_sparse, dtype, order, copy, force_all_finite, ensure_2d, allow_nd, ensure_min_samples, ensure_min_features, estimator)\u001b[0m\n\u001b[1;32m    597\u001b[0m                     \u001b[0marray\u001b[0m \u001b[0;34m=\u001b[0m \u001b[0marray\u001b[0m\u001b[0;34m.\u001b[0m\u001b[0mastype\u001b[0m\u001b[0;34m(\u001b[0m\u001b[0mdtype\u001b[0m\u001b[0;34m,\u001b[0m \u001b[0mcasting\u001b[0m\u001b[0;34m=\u001b[0m\u001b[0;34m\"unsafe\"\u001b[0m\u001b[0;34m,\u001b[0m \u001b[0mcopy\u001b[0m\u001b[0;34m=\u001b[0m\u001b[0;32mFalse\u001b[0m\u001b[0;34m)\u001b[0m\u001b[0;34m\u001b[0m\u001b[0;34m\u001b[0m\u001b[0m\n\u001b[1;32m    598\u001b[0m                 \u001b[0;32melse\u001b[0m\u001b[0;34m:\u001b[0m\u001b[0;34m\u001b[0m\u001b[0;34m\u001b[0m\u001b[0m\n\u001b[0;32m--> 599\u001b[0;31m                     \u001b[0marray\u001b[0m \u001b[0;34m=\u001b[0m \u001b[0mnp\u001b[0m\u001b[0;34m.\u001b[0m\u001b[0masarray\u001b[0m\u001b[0;34m(\u001b[0m\u001b[0marray\u001b[0m\u001b[0;34m,\u001b[0m \u001b[0morder\u001b[0m\u001b[0;34m=\u001b[0m\u001b[0morder\u001b[0m\u001b[0;34m,\u001b[0m \u001b[0mdtype\u001b[0m\u001b[0;34m=\u001b[0m\u001b[0mdtype\u001b[0m\u001b[0;34m)\u001b[0m\u001b[0;34m\u001b[0m\u001b[0;34m\u001b[0m\u001b[0m\n\u001b[0m\u001b[1;32m    600\u001b[0m             \u001b[0;32mexcept\u001b[0m \u001b[0mComplexWarning\u001b[0m\u001b[0;34m:\u001b[0m\u001b[0;34m\u001b[0m\u001b[0;34m\u001b[0m\u001b[0m\n\u001b[1;32m    601\u001b[0m                 raise ValueError(\"Complex data not supported\\n\"\n",
      "\u001b[0;32m~/anaconda3/envs/zabbix/lib/python3.8/site-packages/numpy/core/_asarray.py\u001b[0m in \u001b[0;36masarray\u001b[0;34m(a, dtype, order)\u001b[0m\n\u001b[1;32m     83\u001b[0m \u001b[0;34m\u001b[0m\u001b[0m\n\u001b[1;32m     84\u001b[0m     \"\"\"\n\u001b[0;32m---> 85\u001b[0;31m     \u001b[0;32mreturn\u001b[0m \u001b[0marray\u001b[0m\u001b[0;34m(\u001b[0m\u001b[0ma\u001b[0m\u001b[0;34m,\u001b[0m \u001b[0mdtype\u001b[0m\u001b[0;34m,\u001b[0m \u001b[0mcopy\u001b[0m\u001b[0;34m=\u001b[0m\u001b[0;32mFalse\u001b[0m\u001b[0;34m,\u001b[0m \u001b[0morder\u001b[0m\u001b[0;34m=\u001b[0m\u001b[0morder\u001b[0m\u001b[0;34m)\u001b[0m\u001b[0;34m\u001b[0m\u001b[0;34m\u001b[0m\u001b[0m\n\u001b[0m\u001b[1;32m     86\u001b[0m \u001b[0;34m\u001b[0m\u001b[0m\n\u001b[1;32m     87\u001b[0m \u001b[0;34m\u001b[0m\u001b[0m\n",
      "\u001b[0;31mValueError\u001b[0m: could not convert string to float: 'Free disk space on H:'"
     ]
    }
   ],
   "source": [
    "print('Accuracy of logistic regression classifier on test set: {:.2f}'.format(logreg1.score(y_test, y_pred)))"
   ]
  },
  {
   "cell_type": "code",
   "execution_count": 60,
   "metadata": {},
   "outputs": [
    {
     "name": "stdout",
     "output_type": "stream",
     "text": [
      "[[ 8  5  0  1  0  0  0  0  0  0  0]\n",
      " [ 4 24  2  8  0  0  0  0  0  0  0]\n",
      " [ 0  3  2  0  0  0  0  0  0  0  0]\n",
      " [ 3  4  1  3  0  0  0  0  0  0  0]\n",
      " [ 1  0  0  0  0  0  0  0  1  0  0]\n",
      " [ 0  0  0  0  0  0  0  0  0  0  0]\n",
      " [ 0  0  0  0  0  1  0  0  0  0  0]\n",
      " [ 0  1  0  0  0  0  0  0  0  0  1]\n",
      " [ 1  0  0  0  0  0  0  0  0  0  0]\n",
      " [ 0  0  1  0  0  0  0  0  0  0  0]\n",
      " [ 0  0  0  0  0  0  0  0  0  0  1]]\n"
     ]
    }
   ],
   "source": [
    "from sklearn.metrics import confusion_matrix\n",
    "confusion_matrix = confusion_matrix(y_test, y_pred)\n",
    "print(confusion_matrix)"
   ]
  },
  {
   "cell_type": "code",
   "execution_count": 61,
   "metadata": {},
   "outputs": [
    {
     "name": "stdout",
     "output_type": "stream",
     "text": [
      "                                              precision    recall  f1-score   support\n",
      "\n",
      "                       Free disk space on D:       0.47      0.57      0.52        14\n",
      "                       Free disk space on H:       0.65      0.63      0.64        38\n",
      "                       Free disk space on M:       0.33      0.40      0.36         5\n",
      "                       Free disk space on N:       0.25      0.27      0.26        11\n",
      "             Processor load (15 min average)       0.00      0.00      0.00         2\n",
      "SQL Server, Buffer Manager: % Buffer cache h       0.00      0.00      0.00         0\n",
      "  SQL Server, Buffer Manager: Page reads/sec       0.00      0.00      0.00         1\n",
      "SQL Server, Errors: Errors/sec (Kill Connect       0.00      0.00      0.00         2\n",
      "  SQL Server, Latches: Total Latch Wait Time       0.00      0.00      0.00         1\n",
      "SQL Server, Memory Manager: Granted Workspac       0.00      0.00      0.00         1\n",
      "                      SQL Server: Logins/sec       0.50      1.00      0.67         1\n",
      "\n",
      "                                    accuracy                           0.50        76\n",
      "                                   macro avg       0.20      0.26      0.22        76\n",
      "                                weighted avg       0.48      0.50      0.49        76\n",
      "\n"
     ]
    },
    {
     "name": "stderr",
     "output_type": "stream",
     "text": [
      "/home/ubuntu/anaconda3/envs/zabbix/lib/python3.8/site-packages/sklearn/metrics/_classification.py:1221: UndefinedMetricWarning: Precision and F-score are ill-defined and being set to 0.0 in labels with no predicted samples. Use `zero_division` parameter to control this behavior.\n",
      "  _warn_prf(average, modifier, msg_start, len(result))\n",
      "/home/ubuntu/anaconda3/envs/zabbix/lib/python3.8/site-packages/sklearn/metrics/_classification.py:1221: UndefinedMetricWarning: Recall and F-score are ill-defined and being set to 0.0 in labels with no true samples. Use `zero_division` parameter to control this behavior.\n",
      "  _warn_prf(average, modifier, msg_start, len(result))\n"
     ]
    }
   ],
   "source": [
    "from sklearn.metrics import classification_report\n",
    "print(classification_report(y_test, y_pred))"
   ]
  },
  {
   "cell_type": "markdown",
   "metadata": {},
   "source": [
    "\n"
   ]
  },
  {
   "cell_type": "code",
   "execution_count": null,
   "metadata": {},
   "outputs": [],
   "source": []
  },
  {
   "cell_type": "code",
   "execution_count": null,
   "metadata": {},
   "outputs": [],
   "source": []
  },
  {
   "cell_type": "code",
   "execution_count": null,
   "metadata": {},
   "outputs": [],
   "source": []
  },
  {
   "cell_type": "code",
   "execution_count": null,
   "metadata": {},
   "outputs": [],
   "source": []
  },
  {
   "cell_type": "code",
   "execution_count": null,
   "metadata": {},
   "outputs": [],
   "source": []
  },
  {
   "cell_type": "code",
   "execution_count": null,
   "metadata": {},
   "outputs": [],
   "source": []
  },
  {
   "cell_type": "code",
   "execution_count": 65,
   "metadata": {},
   "outputs": [
    {
     "data": {
      "text/plain": [
       "0        2020-06-16 05:17:00\n",
       "1        2020-06-16 05:18:00\n",
       "2        2020-06-16 05:19:00\n",
       "3        2020-06-16 05:20:00\n",
       "4        2020-06-16 05:21:00\n",
       "                ...         \n",
       "45265    2020-07-20 01:09:00\n",
       "45266    2020-07-20 01:10:00\n",
       "45267    2020-07-20 01:11:00\n",
       "45268    2020-07-20 01:12:00\n",
       "45269    2020-07-20 01:13:00\n",
       "Name: Date_Time, Length: 45270, dtype: object"
      ]
     },
     "execution_count": 65,
     "metadata": {},
     "output_type": "execute_result"
    }
   ],
   "source": [
    "df['Date_Time']"
   ]
  },
  {
   "cell_type": "code",
   "execution_count": 70,
   "metadata": {},
   "outputs": [],
   "source": [
    "date_col = pd.Series(pd.date_range(start='2020-06-01 00:00:00', end= '2020-12-31 23:59:59', freq='1T'))"
   ]
  },
  {
   "cell_type": "code",
   "execution_count": 73,
   "metadata": {},
   "outputs": [
    {
     "data": {
      "text/plain": [
       "(308160,)"
      ]
     },
     "execution_count": 73,
     "metadata": {},
     "output_type": "execute_result"
    }
   ],
   "source": [
    "date_col.shape"
   ]
  },
  {
   "cell_type": "code",
   "execution_count": 75,
   "metadata": {},
   "outputs": [],
   "source": [
    "df_year = pd.DataFrame(data = date_col)#, columns = 'Y_Date_Time', index = range(308160))"
   ]
  },
  {
   "cell_type": "code",
   "execution_count": 77,
   "metadata": {},
   "outputs": [
    {
     "data": {
      "text/plain": [
       "(308160, 1)"
      ]
     },
     "execution_count": 77,
     "metadata": {},
     "output_type": "execute_result"
    }
   ],
   "source": [
    "df_year.shape"
   ]
  },
  {
   "cell_type": "code",
   "execution_count": 78,
   "metadata": {},
   "outputs": [
    {
     "data": {
      "text/plain": [
       "(45270, 141)"
      ]
     },
     "execution_count": 78,
     "metadata": {},
     "output_type": "execute_result"
    }
   ],
   "source": [
    "df.shape"
   ]
  },
  {
   "cell_type": "code",
   "execution_count": 80,
   "metadata": {},
   "outputs": [
    {
     "data": {
      "text/plain": [
       "6"
      ]
     },
     "execution_count": 80,
     "metadata": {},
     "output_type": "execute_result"
    }
   ],
   "source": [
    "df_year.shape[0]//df.shape[0]"
   ]
  },
  {
   "cell_type": "code",
   "execution_count": 84,
   "metadata": {},
   "outputs": [],
   "source": [
    "df_year.columns = ['Y_Date_Time']"
   ]
  },
  {
   "cell_type": "code",
   "execution_count": null,
   "metadata": {},
   "outputs": [],
   "source": [
    "df."
   ]
  },
  {
   "cell_type": "code",
   "execution_count": 88,
   "metadata": {},
   "outputs": [],
   "source": [
    "df_y_1 = pd.concat([df_year.iloc[:45270,], df], axis = 1)"
   ]
  },
  {
   "cell_type": "code",
   "execution_count": 89,
   "metadata": {},
   "outputs": [
    {
     "data": {
      "text/plain": [
       "90540"
      ]
     },
     "execution_count": 89,
     "metadata": {},
     "output_type": "execute_result"
    }
   ],
   "source": [
    "45270*2"
   ]
  },
  {
   "cell_type": "code",
   "execution_count": 90,
   "metadata": {},
   "outputs": [],
   "source": [
    "df_y_2 = pd.concat([df_year.iloc[45270:90540,], df], axis = 1)"
   ]
  },
  {
   "cell_type": "code",
   "execution_count": 91,
   "metadata": {},
   "outputs": [
    {
     "data": {
      "text/plain": [
       "135810"
      ]
     },
     "execution_count": 91,
     "metadata": {},
     "output_type": "execute_result"
    }
   ],
   "source": [
    "90540 + 45270"
   ]
  },
  {
   "cell_type": "code",
   "execution_count": 92,
   "metadata": {},
   "outputs": [],
   "source": [
    "df_y_2 = pd.concat([df_year.iloc[90540:135810,], df], axis = 1)"
   ]
  },
  {
   "cell_type": "code",
   "execution_count": 93,
   "metadata": {},
   "outputs": [
    {
     "data": {
      "text/plain": [
       "181080"
      ]
     },
     "execution_count": 93,
     "metadata": {},
     "output_type": "execute_result"
    }
   ],
   "source": [
    "135810 + 45270"
   ]
  },
  {
   "cell_type": "code",
   "execution_count": 94,
   "metadata": {},
   "outputs": [],
   "source": [
    "df_y_3 = pd.concat([df_year.iloc[135810:181080,], df], axis = 1)"
   ]
  },
  {
   "cell_type": "code",
   "execution_count": 95,
   "metadata": {},
   "outputs": [
    {
     "data": {
      "text/plain": [
       "(135810, 142)"
      ]
     },
     "execution_count": 95,
     "metadata": {},
     "output_type": "execute_result"
    }
   ],
   "source": [
    "df_y_1.append(df_y_2).shape"
   ]
  },
  {
   "cell_type": "code",
   "execution_count": 114,
   "metadata": {},
   "outputs": [
    {
     "data": {
      "text/plain": [
       "(90540, 142)"
      ]
     },
     "execution_count": 114,
     "metadata": {},
     "output_type": "execute_result"
    }
   ],
   "source": [
    "df_y_3.shape"
   ]
  },
  {
   "cell_type": "code",
   "execution_count": 115,
   "metadata": {},
   "outputs": [
    {
     "data": {
      "text/plain": [
       "6428340"
      ]
     },
     "execution_count": 115,
     "metadata": {},
     "output_type": "execute_result"
    }
   ],
   "source": [
    "df_y_3.isnull().sum().sum()"
   ]
  },
  {
   "cell_type": "code",
   "execution_count": 116,
   "metadata": {},
   "outputs": [],
   "source": [
    "pieces = {'t1': df, 't2': df, 't3': df, 't4': df, 't5': df, 't6': df}\n",
    "\n",
    "result = pd.concat(pieces)"
   ]
  },
  {
   "cell_type": "code",
   "execution_count": 117,
   "metadata": {},
   "outputs": [
    {
     "data": {
      "text/plain": [
       "(271620, 141)"
      ]
     },
     "execution_count": 117,
     "metadata": {},
     "output_type": "execute_result"
    }
   ],
   "source": [
    "result.shape"
   ]
  },
  {
   "cell_type": "code",
   "execution_count": 118,
   "metadata": {},
   "outputs": [
    {
     "data": {
      "text/plain": [
       "(308160, 1)"
      ]
     },
     "execution_count": 118,
     "metadata": {},
     "output_type": "execute_result"
    }
   ],
   "source": [
    "df_year.shape"
   ]
  },
  {
   "cell_type": "code",
   "execution_count": 119,
   "metadata": {},
   "outputs": [
    {
     "data": {
      "text/plain": [
       "Index(['Y_Date_Time'], dtype='object')"
      ]
     },
     "execution_count": 119,
     "metadata": {},
     "output_type": "execute_result"
    }
   ],
   "source": [
    "df_year.columns"
   ]
  },
  {
   "cell_type": "code",
   "execution_count": 122,
   "metadata": {},
   "outputs": [
    {
     "data": {
      "text/plain": [
       "(271620,)"
      ]
     },
     "execution_count": 122,
     "metadata": {},
     "output_type": "execute_result"
    }
   ],
   "source": [
    "df_year['Y_Date_Time'][:271620].shape"
   ]
  },
  {
   "cell_type": "code",
   "execution_count": 123,
   "metadata": {},
   "outputs": [],
   "source": [
    "result.index = df_year['Y_Date_Time'][:271620]"
   ]
  },
  {
   "cell_type": "code",
   "execution_count": 126,
   "metadata": {},
   "outputs": [],
   "source": [
    "# result.to_csv('/home/ubuntu/Zabbix/Data/DEMO_DATA/anomaly_demo.csv')"
   ]
  },
  {
   "cell_type": "code",
   "execution_count": 133,
   "metadata": {},
   "outputs": [],
   "source": [
    "result.reset_index(inplace=True)"
   ]
  },
  {
   "cell_type": "code",
   "execution_count": 134,
   "metadata": {},
   "outputs": [
    {
     "data": {
      "text/plain": [
       "Index(['Y_Date_Time', 'Date_Time', 'Total disk space on K:',\n",
       "       'Total disk space on J:', 'Total disk space on N:\\LOGS',\n",
       "       'Total disk space on N:',\n",
       "       'SQL Server, Locks: Lock Waits per second (Total)',\n",
       "       'SQL Server, Buffer Manager: Page reads/sec',\n",
       "       'Outgoing network traffic on vmxnet3 Ethernet Adapter-WFP Native MAC Layer LightWeight Filter-0000',\n",
       "       'SQL Server, Locks: Number of Deadlocks/sec (Total)',\n",
       "       ...\n",
       "       'Free disk space on H:\\LOGS', 'Free disk space on Q:',\n",
       "       'SQL Server, Memory Manager: Memory Grants Pending',\n",
       "       'Free disk space on S:', 'SQL Server, Cache: Cache Hit Ratio',\n",
       "       'Anomaly', 'Anomaly_Score', 'Anomaly_Feature_1_1',\n",
       "       'Anomaly_Feature_2_2', 'Anomaly_Feature_3_3'],\n",
       "      dtype='object', length=142)"
      ]
     },
     "execution_count": 134,
     "metadata": {},
     "output_type": "execute_result"
    }
   ],
   "source": [
    "result.columns"
   ]
  },
  {
   "cell_type": "code",
   "execution_count": 176,
   "metadata": {},
   "outputs": [],
   "source": [
    "new_col = ['Date_Time',\n",
    "'Total_disk_space_on_K:',\n",
    "\"'Total_disk_space_on_J:'\",\n",
    "\"'Total_disk_space_on_N:\\LOGS'\",\n",
    "\"'Total_disk_space_on_N:'\",\n",
    "\"'SQL_Server,_Locks:_Lock_Waits_per_second_(Total)'\",\n",
    "\"'SQL_Server,_Buffer_Manager:_Page_reads/sec'\",\n",
    "\"'OUT_Traffic_on_WFP_Native_MAC_Layer_LightWeight_Filter0000'\",\n",
    "\"'SQL_Server,_Locks:_Number_of_Deadlocks/sec_(Total)'\",\n",
    "\"'Free_disk_space_on_V:'\",\n",
    "\"'Total_disk_space_on_Q:\\LOGS'\",\n",
    "\"'SQL_Server,_Buffer_Manager:_Checkpoint_pages/sec'\",\n",
    "\"'Free_disk_space_on_F:'\",\n",
    "\"'Free_disk_space_on_N:'\",\n",
    "\"'Total_disk_space_on_G:'\",\n",
    "\"'Processor_load_(5_min_average)'\",\n",
    "\"'IN_Traffic_on_WFP_Native_MAC_Layer_LightWeight_Filter0000'\",\n",
    "\"'Total_disk_space_on_I:\\LOGS'\",\n",
    "\"'SQL_Server,_Statistics:_Failed_AutoParams/sec'\",\n",
    "\"'SQL_Server,_Buffer_Manager:_Database_pages'\",\n",
    "\"'Total_disk_space_on_H:\\LOGS'\",\n",
    "\"'Free_disk_space_on_P:'\",\n",
    "\"'SQL_Server,_Buffer_Manager:_Page_life_expectancy(PLE)'\",\n",
    "\"'Total_disk_space_on_F:'\",\n",
    "\"'SQL_Server,_Errors:_Errors/sec_(DB_Offline_Errors)'\", \"'Processor_load_(15_min_average)'\", \"'SQL_Server,_Buffer_Manager:_Free_list_stalls/sec'\", \"'SQL_Server,_Cache:_Cache_Pages'\", \"'Total_disk_space_on_O:'\", \"'SQL_Server:_Logins/sec'\", \"'SQL_Server,_Statistics:_Unsafe_AutoParams/sec'\", \"'Free_disk_space_on_W:'\", \"'SQL_Server,_Buffer_Manager:_Page_lookups/sec'\", \"'IN_Traffic_on_WFP_802.3_MAC_Layer_LightWeight_Filter0000'\", \"'SQL_Server,_Access_Methods:_Work_files_created/sec'\", \"'Free_disk_space_on_D:'\", \"'Free_disk_space_on_L:\\LOGS'\", \"'SQL_Server,_Buffer_Manager:_Readahead_pages/sec'\", \"'SQL_Server,_Memory_Manager:_Total_Server_Memory'\", \"'Total_disk_space_on_L:'\", \"'SQL_Server:_%_Processor_Time'\", \"'Free_disk_space_on_J:\\LOGS'\", \"'Total_disk_space_on_R:\\LOGS'\", \"'Free_disk_space_on_I:'\", \"'Total_disk_space_on_T:'\", \"'OUT_Traffic_on_WFP_802.3_MAC_Layer_LightWeight_Filter0000'\", \"'Total_disk_space_on_Q:'\", \"'SQL_Server,_Statistics:_SQL_ReCompilations/sec'\", \"'SQL_Server,_Statistics:_Safe_AutoParams/sec'\", \"'Total_disk_space_on_V:\\LOGS'\", \"'Free_disk_space_on_S:\\LOGS'\", \"'Free_disk_space_on_U:'\", \"'Total_disk_space_on_D:'\", \"'SQL_Server,_Statistics:_SQL_Compilations/Sec'\", \"'Free_disk_space_on_J:'\", \"'OUT_Traffic_on_Microsoft_Kernel_Debug_Network_Adapter'\", \"'Total_disk_space_on_L:\\LOGS'\", \"'SQL_Server,_Access_Methods:_Forwarded_Records_per_second'\", \"'SQL_Server,_Buffer_Manager:_Lazy_writes/sec'\", \"'SQL_Server,_Access_Methods:_Index_Searches/sec'\", \"'Free_disk_space_on_O:'\", \"'Total_disk_space_on_P:'\", \"'SQL_Server:_Transactions_per_second_(Total)'\", \"'SQL_Server_working_set'\", \"'SQL_Server,_Statistics:_Batch_Requests/Sec'\", \"'SQL_Server:_Logouts/sec'\", \"'Free_disk_space_on_Q:\\LOGS'\", \"'SQL_Server,_Locks:_Lock_Requests/sec_(Total)'\", \"'SQL_Server,_Memory_Manager:_Memory_Grants_Outstanding'\", \"'Total_disk_space_on_S:'\", \"'IN_Traffic_on_'\", \"'Free_disk_space_on_I:\\LOGS'\", \"'Free_disk_space_on_O:\\LOGS'\", \"'SQL_Server,_Memory_Manager:_Target_Server_Memory'\", \"'Total_disk_space_on_J:\\LOGS'\", \"'Free_disk_space_on_V:\\LOGS'\", \"'Total_disk_space_on_U:'\", \"'SQL_Server,_Latches:_Average_Latch_Wait_Time'\", \"'OUT_Traffic_on_'\", \"'Free_disk_space_on_K:\\LOGS'\", \"'Total_disk_space_on_K:\\LOGS'\", \"'SQL_Server,_Memory_Manager:_Granted_Workspace_Memory'\", \"'Total_disk_space_on_R:'\", \"'Free_disk_space_on_M:'\", \"'SQL_Server,_Statistics:_AutoParam_Attempts/sec'\", \"'SQL_Server,_Latches:_Total_Latch_Wait_Time'\", \"'Free_disk_space_on_U:\\LOGS'\", \"'Free_disk_space_on_R:'\", \"'SQL_Server,_Access_Methods:_Work_tables_created/sec'\", \"'Free_disk_space_on_H:'\", \"'SQL_Server,_Errors:_Errors/sec_(User_Errors)'\", \"'SQL_Server:_Number_of_Blocked_Processes'\", \"'SQL_Server,_Access_Methods:_Full_Scans/sec'\", \"'Total_disk_space_on_U:\\LOGS'\", \"'Total_disk_space_on_O:\\LOGS'\", \"'SQL_Server,_Buffer_Manager:_%_Buffer_cache_hit_ratio'\", \"'Free_disk_space_on_K:'\", \"'Total_disk_space_on_S:\\LOGS'\", \"'SQL_Server,_Errors:_Errors/sec_(Info_Errors)'\", \"'Total_disk_space_on_E:'\", \"'SQL_Server,_Buffer_Manager:_Page_writes/sec'\", \"'Total_disk_space_on_V:'\", \"'SQL_Server,_Cache:_Cache_Objects_in_use'\", \"'SQL_Server,_Cache:_Cache_Object_Counts'\", \"'Free_disk_space_on_E:'\", \"'Free_disk_space_on_P:\\LOGS'\", \"'SQL_Server,_Buffer_Manager:_Target_pages'\", \"'SQL_Server,_Access_Methods:_Page_Splits/sec'\", \"'SQL_Server,_Latches:_Latch_Waits/sec'\", \"'Total_disk_space_on_W:'\", \"'Total_disk_space_on_I:'\", \"'SQL_Server,_Errors:_Errors/sec_(Total)'\", \"'Free_disk_space_on_C:'\", \"'IN_Traffic_on_Microsoft_Kernel_Debug_Network_Adapter'\", \"'SQL_Server_pf'\", \"'Total_disk_space_on_C:'\", \"'SQL_Server,_Memory_Manager:_Maximum_Workspace_Memory'\", \"'SQL_Server,_Locks:_Lock_Timeouts/sec_(Total)'\", \"'SQL_Server,_Locks:_Lock_Wait_Time_(Total)'\", \"'SQL_Server_vmsize'\", \"'Total_disk_space_on_M:'\", \"'Free_disk_space_on_T:'\", \"'SQL_Server,_Errors:_Errors/sec_(Kill_Connection_Errors)'\", \"'Total_disk_space_on_H:'\", \"'Free_disk_space_on_L:'\", \"'Free_memory'\", \"'Total_disk_space_on_P:\\LOGS'\", \"'SQL_Server,_Locks:_Average_Wait_Time_(Total)'\", \"'Free_disk_space_on_R:\\LOGS'\", \"'Free_disk_space_on_G:'\", \"'Free_disk_space_on_N:\\LOGS'\", \"'Free_disk_space_on_H:\\LOGS'\", \"'Free_disk_space_on_Q:'\", \"'SQL_Server,_Memory_Manager:_Memory_Grants_Pending'\", \"'Free_disk_space_on_S:'\", \"'SQL_Server,_Cache:_Cache_Hit_Ratio'\", \"'Anomaly'\", \"'Anomaly_Score'\", \"'Anomaly_Feature_1'\", \"'Anomaly_Feature_2'\", \"'Anomaly_Feature_3'\",\n",
    "\"'Y_Date_Time'\"]"
   ]
  },
  {
   "cell_type": "code",
   "execution_count": 151,
   "metadata": {},
   "outputs": [
    {
     "data": {
      "text/plain": [
       "142"
      ]
     },
     "execution_count": 151,
     "metadata": {},
     "output_type": "execute_result"
    }
   ],
   "source": [
    "len(new_col)"
   ]
  },
  {
   "cell_type": "code",
   "execution_count": 137,
   "metadata": {},
   "outputs": [],
   "source": [
    "# Pushin data to Postgresql"
   ]
  },
  {
   "cell_type": "code",
   "execution_count": null,
   "metadata": {},
   "outputs": [],
   "source": [
    "demo_year_sqln_11_anomaly_classification"
   ]
  },
  {
   "cell_type": "code",
   "execution_count": 140,
   "metadata": {},
   "outputs": [],
   "source": [
    "import psycopg2\n",
    "from io import StringIO"
   ]
  },
  {
   "cell_type": "code",
   "execution_count": 147,
   "metadata": {},
   "outputs": [
    {
     "data": {
      "text/plain": [
       "(271620, 142)"
      ]
     },
     "execution_count": 147,
     "metadata": {},
     "output_type": "execute_result"
    }
   ],
   "source": [
    "result.shape"
   ]
  },
  {
   "cell_type": "code",
   "execution_count": null,
   "metadata": {},
   "outputs": [],
   "source": []
  },
  {
   "cell_type": "code",
   "execution_count": 158,
   "metadata": {},
   "outputs": [],
   "source": [
    "result_col = list(result.columns[1:])"
   ]
  },
  {
   "cell_type": "code",
   "execution_count": 159,
   "metadata": {},
   "outputs": [],
   "source": [
    "result_col.append(\"Y_Date_Time\")"
   ]
  },
  {
   "cell_type": "code",
   "execution_count": 166,
   "metadata": {},
   "outputs": [],
   "source": [
    "df_pg = result[result_col]"
   ]
  },
  {
   "cell_type": "code",
   "execution_count": 167,
   "metadata": {},
   "outputs": [],
   "source": [
    "df_pg.columns = new_col"
   ]
  },
  {
   "cell_type": "code",
   "execution_count": 174,
   "metadata": {
    "collapsed": true,
    "jupyter": {
     "outputs_hidden": true
    }
   },
   "outputs": [
    {
     "data": {
      "text/plain": [
       "[\"'Date_Time'\",\n",
       " \"'Total_disk_space_on_K:'\",\n",
       " \"'Total_disk_space_on_J:'\",\n",
       " \"'Total_disk_space_on_N:\\\\LOGS'\",\n",
       " \"'Total_disk_space_on_N:'\",\n",
       " \"'SQL_Server,_Locks:_Lock_Waits_per_second_(Total)'\",\n",
       " \"'SQL_Server,_Buffer_Manager:_Page_reads/sec'\",\n",
       " \"'OUT_Traffic_on_WFP_Native_MAC_Layer_LightWeight_Filter0000'\",\n",
       " \"'SQL_Server,_Locks:_Number_of_Deadlocks/sec_(Total)'\",\n",
       " \"'Free_disk_space_on_V:'\",\n",
       " \"'Total_disk_space_on_Q:\\\\LOGS'\",\n",
       " \"'SQL_Server,_Buffer_Manager:_Checkpoint_pages/sec'\",\n",
       " \"'Free_disk_space_on_F:'\",\n",
       " \"'Free_disk_space_on_N:'\",\n",
       " \"'Total_disk_space_on_G:'\",\n",
       " \"'Processor_load_(5_min_average)'\",\n",
       " \"'IN_Traffic_on_WFP_Native_MAC_Layer_LightWeight_Filter0000'\",\n",
       " \"'Total_disk_space_on_I:\\\\LOGS'\",\n",
       " \"'SQL_Server,_Statistics:_Failed_AutoParams/sec'\",\n",
       " \"'SQL_Server,_Buffer_Manager:_Database_pages'\",\n",
       " \"'Total_disk_space_on_H:\\\\LOGS'\",\n",
       " \"'Free_disk_space_on_P:'\",\n",
       " \"'SQL_Server,_Buffer_Manager:_Page_life_expectancy(PLE)'\",\n",
       " \"'Total_disk_space_on_F:'\",\n",
       " \"'SQL_Server,_Errors:_Errors/sec_(DB_Offline_Errors)'\",\n",
       " \"'Processor_load_(15_min_average)'\",\n",
       " \"'SQL_Server,_Buffer_Manager:_Free_list_stalls/sec'\",\n",
       " \"'SQL_Server,_Cache:_Cache_Pages'\",\n",
       " \"'Total_disk_space_on_O:'\",\n",
       " \"'SQL_Server:_Logins/sec'\",\n",
       " \"'SQL_Server,_Statistics:_Unsafe_AutoParams/sec'\",\n",
       " \"'Free_disk_space_on_W:'\",\n",
       " \"'SQL_Server,_Buffer_Manager:_Page_lookups/sec'\",\n",
       " \"'IN_Traffic_on_WFP_802.3_MAC_Layer_LightWeight_Filter0000'\",\n",
       " \"'SQL_Server,_Access_Methods:_Work_files_created/sec'\",\n",
       " \"'Free_disk_space_on_D:'\",\n",
       " \"'Free_disk_space_on_L:\\\\LOGS'\",\n",
       " \"'SQL_Server,_Buffer_Manager:_Readahead_pages/sec'\",\n",
       " \"'SQL_Server,_Memory_Manager:_Total_Server_Memory'\",\n",
       " \"'Total_disk_space_on_L:'\",\n",
       " \"'SQL_Server:_%_Processor_Time'\",\n",
       " \"'Free_disk_space_on_J:\\\\LOGS'\",\n",
       " \"'Total_disk_space_on_R:\\\\LOGS'\",\n",
       " \"'Free_disk_space_on_I:'\",\n",
       " \"'Total_disk_space_on_T:'\",\n",
       " \"'OUT_Traffic_on_WFP_802.3_MAC_Layer_LightWeight_Filter0000'\",\n",
       " \"'Total_disk_space_on_Q:'\",\n",
       " \"'SQL_Server,_Statistics:_SQL_ReCompilations/sec'\",\n",
       " \"'SQL_Server,_Statistics:_Safe_AutoParams/sec'\",\n",
       " \"'Total_disk_space_on_V:\\\\LOGS'\",\n",
       " \"'Free_disk_space_on_S:\\\\LOGS'\",\n",
       " \"'Free_disk_space_on_U:'\",\n",
       " \"'Total_disk_space_on_D:'\",\n",
       " \"'SQL_Server,_Statistics:_SQL_Compilations/Sec'\",\n",
       " \"'Free_disk_space_on_J:'\",\n",
       " \"'OUT_Traffic_on_Microsoft_Kernel_Debug_Network_Adapter'\",\n",
       " \"'Total_disk_space_on_L:\\\\LOGS'\",\n",
       " \"'SQL_Server,_Access_Methods:_Forwarded_Records_per_second'\",\n",
       " \"'SQL_Server,_Buffer_Manager:_Lazy_writes/sec'\",\n",
       " \"'SQL_Server,_Access_Methods:_Index_Searches/sec'\",\n",
       " \"'Free_disk_space_on_O:'\",\n",
       " \"'Total_disk_space_on_P:'\",\n",
       " \"'SQL_Server:_Transactions_per_second_(Total)'\",\n",
       " \"'SQL_Server_working_set'\",\n",
       " \"'SQL_Server,_Statistics:_Batch_Requests/Sec'\",\n",
       " \"'SQL_Server:_Logouts/sec'\",\n",
       " \"'Free_disk_space_on_Q:\\\\LOGS'\",\n",
       " \"'SQL_Server,_Locks:_Lock_Requests/sec_(Total)'\",\n",
       " \"'SQL_Server,_Memory_Manager:_Memory_Grants_Outstanding'\",\n",
       " \"'Total_disk_space_on_S:'\",\n",
       " \"'IN_Traffic_on_'\",\n",
       " \"'Free_disk_space_on_I:\\\\LOGS'\",\n",
       " \"'Free_disk_space_on_O:\\\\LOGS'\",\n",
       " \"'SQL_Server,_Memory_Manager:_Target_Server_Memory'\",\n",
       " \"'Total_disk_space_on_J:\\\\LOGS'\",\n",
       " \"'Free_disk_space_on_V:\\\\LOGS'\",\n",
       " \"'Total_disk_space_on_U:'\",\n",
       " \"'SQL_Server,_Latches:_Average_Latch_Wait_Time'\",\n",
       " \"'OUT_Traffic_on_'\",\n",
       " \"'Free_disk_space_on_K:\\\\LOGS'\",\n",
       " \"'Total_disk_space_on_K:\\\\LOGS'\",\n",
       " \"'SQL_Server,_Memory_Manager:_Granted_Workspace_Memory'\",\n",
       " \"'Total_disk_space_on_R:'\",\n",
       " \"'Free_disk_space_on_M:'\",\n",
       " \"'SQL_Server,_Statistics:_AutoParam_Attempts/sec'\",\n",
       " \"'SQL_Server,_Latches:_Total_Latch_Wait_Time'\",\n",
       " \"'Free_disk_space_on_U:\\\\LOGS'\",\n",
       " \"'Free_disk_space_on_R:'\",\n",
       " \"'SQL_Server,_Access_Methods:_Work_tables_created/sec'\",\n",
       " \"'Free_disk_space_on_H:'\",\n",
       " \"'SQL_Server,_Errors:_Errors/sec_(User_Errors)'\",\n",
       " \"'SQL_Server:_Number_of_Blocked_Processes'\",\n",
       " \"'SQL_Server,_Access_Methods:_Full_Scans/sec'\",\n",
       " \"'Total_disk_space_on_U:\\\\LOGS'\",\n",
       " \"'Total_disk_space_on_O:\\\\LOGS'\",\n",
       " \"'SQL_Server,_Buffer_Manager:_%_Buffer_cache_hit_ratio'\",\n",
       " \"'Free_disk_space_on_K:'\",\n",
       " \"'Total_disk_space_on_S:\\\\LOGS'\",\n",
       " \"'SQL_Server,_Errors:_Errors/sec_(Info_Errors)'\",\n",
       " \"'Total_disk_space_on_E:'\",\n",
       " \"'SQL_Server,_Buffer_Manager:_Page_writes/sec'\",\n",
       " \"'Total_disk_space_on_V:'\",\n",
       " \"'SQL_Server,_Cache:_Cache_Objects_in_use'\",\n",
       " \"'SQL_Server,_Cache:_Cache_Object_Counts'\",\n",
       " \"'Free_disk_space_on_E:'\",\n",
       " \"'Free_disk_space_on_P:\\\\LOGS'\",\n",
       " \"'SQL_Server,_Buffer_Manager:_Target_pages'\",\n",
       " \"'SQL_Server,_Access_Methods:_Page_Splits/sec'\",\n",
       " \"'SQL_Server,_Latches:_Latch_Waits/sec'\",\n",
       " \"'Total_disk_space_on_W:'\",\n",
       " \"'Total_disk_space_on_I:'\",\n",
       " \"'SQL_Server,_Errors:_Errors/sec_(Total)'\",\n",
       " \"'Free_disk_space_on_C:'\",\n",
       " \"'IN_Traffic_on_Microsoft_Kernel_Debug_Network_Adapter'\",\n",
       " \"'SQL_Server_pf'\",\n",
       " \"'Total_disk_space_on_C:'\",\n",
       " \"'SQL_Server,_Memory_Manager:_Maximum_Workspace_Memory'\",\n",
       " \"'SQL_Server,_Locks:_Lock_Timeouts/sec_(Total)'\",\n",
       " \"'SQL_Server,_Locks:_Lock_Wait_Time_(Total)'\",\n",
       " \"'SQL_Server_vmsize'\",\n",
       " \"'Total_disk_space_on_M:'\",\n",
       " \"'Free_disk_space_on_T:'\",\n",
       " \"'SQL_Server,_Errors:_Errors/sec_(Kill_Connection_Errors)'\",\n",
       " \"'Total_disk_space_on_H:'\",\n",
       " \"'Free_disk_space_on_L:'\",\n",
       " \"'Free_memory'\",\n",
       " \"'Total_disk_space_on_P:\\\\LOGS'\",\n",
       " \"'SQL_Server,_Locks:_Average_Wait_Time_(Total)'\",\n",
       " \"'Free_disk_space_on_R:\\\\LOGS'\",\n",
       " \"'Free_disk_space_on_G:'\",\n",
       " \"'Free_disk_space_on_N:\\\\LOGS'\",\n",
       " \"'Free_disk_space_on_H:\\\\LOGS'\",\n",
       " \"'Free_disk_space_on_Q:'\",\n",
       " \"'SQL_Server,_Memory_Manager:_Memory_Grants_Pending'\",\n",
       " \"'Free_disk_space_on_S:'\",\n",
       " \"'SQL_Server,_Cache:_Cache_Hit_Ratio'\",\n",
       " \"'Anomaly'\",\n",
       " \"'Anomaly_Score'\",\n",
       " \"'Anomaly_Feature_1'\",\n",
       " \"'Anomaly_Feature_2'\",\n",
       " \"'Anomaly_Feature_3'\",\n",
       " \"'Y_Date_Time'\"]"
      ]
     },
     "execution_count": 174,
     "metadata": {},
     "output_type": "execute_result"
    }
   ],
   "source": [
    "list(df_pg.columns)"
   ]
  },
  {
   "cell_type": "code",
   "execution_count": 197,
   "metadata": {},
   "outputs": [
    {
     "data": {
      "text/plain": [
       "'Date_Time'                              object\n",
       "'Total_disk_space_on_K:'                float64\n",
       "'Total_disk_space_on_J:'                float64\n",
       "'Total_disk_space_on_N:\\LOGS'           float64\n",
       "'Total_disk_space_on_N:'                float64\n",
       "                                      ...      \n",
       "'Anomaly_Score'                         float64\n",
       "'Anomaly_Feature_1'                      object\n",
       "'Anomaly_Feature_2'                      object\n",
       "'Anomaly_Feature_3'                      object\n",
       "'Y_Date_Time'                    datetime64[ns]\n",
       "Length: 142, dtype: object"
      ]
     },
     "execution_count": 197,
     "metadata": {},
     "output_type": "execute_result"
    }
   ],
   "source": [
    "df_pg.dtypes"
   ]
  },
  {
   "cell_type": "code",
   "execution_count": 208,
   "metadata": {},
   "outputs": [
    {
     "data": {
      "text/plain": [
       "0"
      ]
     },
     "execution_count": 208,
     "metadata": {},
     "output_type": "execute_result"
    }
   ],
   "source": [
    "conn = psycopg2.connect(user = \"test_user\",\n",
    "                                  password = \"test_user\",\n",
    "                                  host = \"127.0.0.1\",\n",
    "                                  port = \"5432\",\n",
    "                                  database = \"postgres\")\n",
    "\n",
    "# Initialize a string buffer\n",
    "sio = StringIO()\n",
    "sio.write(df_pg_copy.to_csv(index=True, header=True))  # Write the Pandas DataFrame as a csv to the buffer\n",
    "sio.seek(0)  # Be sure to reset the position to the start of the stream"
   ]
  },
  {
   "cell_type": "code",
   "execution_count": 209,
   "metadata": {},
   "outputs": [
    {
     "ename": "BadCopyFileFormat",
     "evalue": "extra data after last expected column\nCONTEXT:  COPY demo_year_sqln_11_anomaly_classification, line 1: \",'Date_Time','Total_disk_space_on_K:','Total_disk_space_on_J:','Total_disk_space_on_N:\\LOGS','Total_...\"\n",
     "output_type": "error",
     "traceback": [
      "\u001b[0;31m---------------------------------------------------------------------------\u001b[0m",
      "\u001b[0;31mBadCopyFileFormat\u001b[0m                         Traceback (most recent call last)",
      "\u001b[0;32m<ipython-input-209-c4059465787e>\u001b[0m in \u001b[0;36m<module>\u001b[0;34m\u001b[0m\n\u001b[1;32m      1\u001b[0m \u001b[0;31m# Copy the string buffer to the database, as if it were an actual file\u001b[0m\u001b[0;34m\u001b[0m\u001b[0;34m\u001b[0m\u001b[0;34m\u001b[0m\u001b[0m\n\u001b[1;32m      2\u001b[0m \u001b[0;32mwith\u001b[0m \u001b[0mconn\u001b[0m\u001b[0;34m.\u001b[0m\u001b[0mcursor\u001b[0m\u001b[0;34m(\u001b[0m\u001b[0;34m)\u001b[0m \u001b[0;32mas\u001b[0m \u001b[0mc\u001b[0m\u001b[0;34m:\u001b[0m\u001b[0;34m\u001b[0m\u001b[0;34m\u001b[0m\u001b[0m\n\u001b[0;32m----> 3\u001b[0;31m     \u001b[0mc\u001b[0m\u001b[0;34m.\u001b[0m\u001b[0mcopy_from\u001b[0m\u001b[0;34m(\u001b[0m\u001b[0msio\u001b[0m\u001b[0;34m,\u001b[0m \u001b[0;34m\"demo_year_sqln_11_anomaly_classification\"\u001b[0m\u001b[0;34m,\u001b[0m \u001b[0msep\u001b[0m\u001b[0;34m=\u001b[0m\u001b[0;34m','\u001b[0m\u001b[0;34m)\u001b[0m\u001b[0;31m#, columns=list(df_pg.columns), sep=',')\u001b[0m\u001b[0;34m\u001b[0m\u001b[0;34m\u001b[0m\u001b[0m\n\u001b[0m\u001b[1;32m      4\u001b[0m     \u001b[0mconn\u001b[0m\u001b[0;34m.\u001b[0m\u001b[0mcommit\u001b[0m\u001b[0;34m(\u001b[0m\u001b[0;34m)\u001b[0m\u001b[0;34m\u001b[0m\u001b[0;34m\u001b[0m\u001b[0m\n",
      "\u001b[0;31mBadCopyFileFormat\u001b[0m: extra data after last expected column\nCONTEXT:  COPY demo_year_sqln_11_anomaly_classification, line 1: \",'Date_Time','Total_disk_space_on_K:','Total_disk_space_on_J:','Total_disk_space_on_N:\\LOGS','Total_...\"\n"
     ]
    }
   ],
   "source": [
    "# Copy the string buffer to the database, as if it were an actual file\n",
    "with conn.cursor() as c:\n",
    "    c.copy_from(sio, \"demo_year_sqln_11_anomaly_classification\", sep=',')#, columns=list(df_pg.columns), sep=',')\n",
    "    conn.commit()"
   ]
  },
  {
   "cell_type": "code",
   "execution_count": 200,
   "metadata": {},
   "outputs": [
    {
     "data": {
      "text/html": [
       "<div>\n",
       "<style scoped>\n",
       "    .dataframe tbody tr th:only-of-type {\n",
       "        vertical-align: middle;\n",
       "    }\n",
       "\n",
       "    .dataframe tbody tr th {\n",
       "        vertical-align: top;\n",
       "    }\n",
       "\n",
       "    .dataframe thead th {\n",
       "        text-align: right;\n",
       "    }\n",
       "</style>\n",
       "<table border=\"1\" class=\"dataframe\">\n",
       "  <thead>\n",
       "    <tr style=\"text-align: right;\">\n",
       "      <th></th>\n",
       "      <th>'Date_Time'</th>\n",
       "      <th>'Total_disk_space_on_K:'</th>\n",
       "      <th>'Total_disk_space_on_J:'</th>\n",
       "      <th>'Total_disk_space_on_N:\\LOGS'</th>\n",
       "      <th>'Total_disk_space_on_N:'</th>\n",
       "      <th>'SQL_Server,_Locks:_Lock_Waits_per_second_(Total)'</th>\n",
       "      <th>'SQL_Server,_Buffer_Manager:_Page_reads/sec'</th>\n",
       "      <th>'OUT_Traffic_on_WFP_Native_MAC_Layer_LightWeight_Filter0000'</th>\n",
       "      <th>'SQL_Server,_Locks:_Number_of_Deadlocks/sec_(Total)'</th>\n",
       "      <th>'Free_disk_space_on_V:'</th>\n",
       "      <th>...</th>\n",
       "      <th>'Free_disk_space_on_Q:'</th>\n",
       "      <th>'SQL_Server,_Memory_Manager:_Memory_Grants_Pending'</th>\n",
       "      <th>'Free_disk_space_on_S:'</th>\n",
       "      <th>'SQL_Server,_Cache:_Cache_Hit_Ratio'</th>\n",
       "      <th>'Anomaly'</th>\n",
       "      <th>'Anomaly_Score'</th>\n",
       "      <th>'Anomaly_Feature_1'</th>\n",
       "      <th>'Anomaly_Feature_2'</th>\n",
       "      <th>'Anomaly_Feature_3'</th>\n",
       "      <th>'Y_Date_Time'</th>\n",
       "    </tr>\n",
       "  </thead>\n",
       "  <tbody>\n",
       "    <tr>\n",
       "      <th>0</th>\n",
       "      <td>2020-06-16 05:17:00</td>\n",
       "      <td>8.938692e+11</td>\n",
       "      <td>9.663355e+10</td>\n",
       "      <td>5.365498e+09</td>\n",
       "      <td>2.899071e+11</td>\n",
       "      <td>0.0</td>\n",
       "      <td>0.0</td>\n",
       "      <td>1914432.0</td>\n",
       "      <td>0.0</td>\n",
       "      <td>1.661783e+10</td>\n",
       "      <td>...</td>\n",
       "      <td>3.090481e+10</td>\n",
       "      <td>0.0</td>\n",
       "      <td>1.396507e+10</td>\n",
       "      <td>81.8883</td>\n",
       "      <td>1</td>\n",
       "      <td>0.120815</td>\n",
       "      <td>SQL Server: Number of Blocked Processes</td>\n",
       "      <td>Free disk space on J:\\LOGS</td>\n",
       "      <td>Free disk space on J:</td>\n",
       "      <td>2020-06-01 00:00:00</td>\n",
       "    </tr>\n",
       "    <tr>\n",
       "      <th>1</th>\n",
       "      <td>2020-06-16 05:18:00</td>\n",
       "      <td>8.938692e+11</td>\n",
       "      <td>9.663355e+10</td>\n",
       "      <td>5.365498e+09</td>\n",
       "      <td>2.899071e+11</td>\n",
       "      <td>0.0</td>\n",
       "      <td>0.0</td>\n",
       "      <td>1760608.0</td>\n",
       "      <td>0.0</td>\n",
       "      <td>1.661783e+10</td>\n",
       "      <td>...</td>\n",
       "      <td>3.090481e+10</td>\n",
       "      <td>0.0</td>\n",
       "      <td>1.396507e+10</td>\n",
       "      <td>87.7246</td>\n",
       "      <td>1</td>\n",
       "      <td>0.126713</td>\n",
       "      <td>Free disk space on J:\\LOGS</td>\n",
       "      <td>SQL Server: Number of Blocked Processes</td>\n",
       "      <td>Free disk space on J:</td>\n",
       "      <td>2020-06-01 00:01:00</td>\n",
       "    </tr>\n",
       "    <tr>\n",
       "      <th>2</th>\n",
       "      <td>2020-06-16 05:19:00</td>\n",
       "      <td>8.938692e+11</td>\n",
       "      <td>9.663355e+10</td>\n",
       "      <td>5.365498e+09</td>\n",
       "      <td>2.899071e+11</td>\n",
       "      <td>0.0</td>\n",
       "      <td>0.0</td>\n",
       "      <td>1820848.0</td>\n",
       "      <td>0.0</td>\n",
       "      <td>1.661783e+10</td>\n",
       "      <td>...</td>\n",
       "      <td>3.090481e+10</td>\n",
       "      <td>0.0</td>\n",
       "      <td>1.396507e+10</td>\n",
       "      <td>81.2514</td>\n",
       "      <td>1</td>\n",
       "      <td>0.126454</td>\n",
       "      <td>Free disk space on J:\\LOGS</td>\n",
       "      <td>SQL Server: Number of Blocked Processes</td>\n",
       "      <td>SQL Server, Cache: Cache Hit Ratio</td>\n",
       "      <td>2020-06-01 00:02:00</td>\n",
       "    </tr>\n",
       "    <tr>\n",
       "      <th>3</th>\n",
       "      <td>2020-06-16 05:20:00</td>\n",
       "      <td>8.938692e+11</td>\n",
       "      <td>9.663355e+10</td>\n",
       "      <td>5.365498e+09</td>\n",
       "      <td>2.899071e+11</td>\n",
       "      <td>0.0</td>\n",
       "      <td>0.0</td>\n",
       "      <td>1720624.0</td>\n",
       "      <td>0.0</td>\n",
       "      <td>1.661783e+10</td>\n",
       "      <td>...</td>\n",
       "      <td>3.090481e+10</td>\n",
       "      <td>0.0</td>\n",
       "      <td>1.396507e+10</td>\n",
       "      <td>86.2335</td>\n",
       "      <td>1</td>\n",
       "      <td>0.125662</td>\n",
       "      <td>Free disk space on J:\\LOGS</td>\n",
       "      <td>SQL Server: Number of Blocked Processes</td>\n",
       "      <td>SQL Server, Memory Manager: Maximum Workspac</td>\n",
       "      <td>2020-06-01 00:03:00</td>\n",
       "    </tr>\n",
       "    <tr>\n",
       "      <th>4</th>\n",
       "      <td>2020-06-16 05:21:00</td>\n",
       "      <td>8.938692e+11</td>\n",
       "      <td>9.663355e+10</td>\n",
       "      <td>5.365498e+09</td>\n",
       "      <td>2.899071e+11</td>\n",
       "      <td>0.0</td>\n",
       "      <td>0.0</td>\n",
       "      <td>2609184.0</td>\n",
       "      <td>0.0</td>\n",
       "      <td>1.661783e+10</td>\n",
       "      <td>...</td>\n",
       "      <td>3.090481e+10</td>\n",
       "      <td>0.0</td>\n",
       "      <td>1.396507e+10</td>\n",
       "      <td>84.1061</td>\n",
       "      <td>1</td>\n",
       "      <td>0.130407</td>\n",
       "      <td>Free disk space on J:\\LOGS</td>\n",
       "      <td>SQL Server: Number of Blocked Processes</td>\n",
       "      <td>Free disk space on J:</td>\n",
       "      <td>2020-06-01 00:04:00</td>\n",
       "    </tr>\n",
       "  </tbody>\n",
       "</table>\n",
       "<p>5 rows × 142 columns</p>\n",
       "</div>"
      ],
      "text/plain": [
       "           'Date_Time'  'Total_disk_space_on_K:'  'Total_disk_space_on_J:'  \\\n",
       "0  2020-06-16 05:17:00              8.938692e+11              9.663355e+10   \n",
       "1  2020-06-16 05:18:00              8.938692e+11              9.663355e+10   \n",
       "2  2020-06-16 05:19:00              8.938692e+11              9.663355e+10   \n",
       "3  2020-06-16 05:20:00              8.938692e+11              9.663355e+10   \n",
       "4  2020-06-16 05:21:00              8.938692e+11              9.663355e+10   \n",
       "\n",
       "   'Total_disk_space_on_N:\\LOGS'  'Total_disk_space_on_N:'  \\\n",
       "0                   5.365498e+09              2.899071e+11   \n",
       "1                   5.365498e+09              2.899071e+11   \n",
       "2                   5.365498e+09              2.899071e+11   \n",
       "3                   5.365498e+09              2.899071e+11   \n",
       "4                   5.365498e+09              2.899071e+11   \n",
       "\n",
       "   'SQL_Server,_Locks:_Lock_Waits_per_second_(Total)'  \\\n",
       "0                                                0.0    \n",
       "1                                                0.0    \n",
       "2                                                0.0    \n",
       "3                                                0.0    \n",
       "4                                                0.0    \n",
       "\n",
       "   'SQL_Server,_Buffer_Manager:_Page_reads/sec'  \\\n",
       "0                                           0.0   \n",
       "1                                           0.0   \n",
       "2                                           0.0   \n",
       "3                                           0.0   \n",
       "4                                           0.0   \n",
       "\n",
       "   'OUT_Traffic_on_WFP_Native_MAC_Layer_LightWeight_Filter0000'  \\\n",
       "0                                          1914432.0              \n",
       "1                                          1760608.0              \n",
       "2                                          1820848.0              \n",
       "3                                          1720624.0              \n",
       "4                                          2609184.0              \n",
       "\n",
       "   'SQL_Server,_Locks:_Number_of_Deadlocks/sec_(Total)'  \\\n",
       "0                                                0.0      \n",
       "1                                                0.0      \n",
       "2                                                0.0      \n",
       "3                                                0.0      \n",
       "4                                                0.0      \n",
       "\n",
       "   'Free_disk_space_on_V:'  ...  'Free_disk_space_on_Q:'  \\\n",
       "0             1.661783e+10  ...             3.090481e+10   \n",
       "1             1.661783e+10  ...             3.090481e+10   \n",
       "2             1.661783e+10  ...             3.090481e+10   \n",
       "3             1.661783e+10  ...             3.090481e+10   \n",
       "4             1.661783e+10  ...             3.090481e+10   \n",
       "\n",
       "   'SQL_Server,_Memory_Manager:_Memory_Grants_Pending'  \\\n",
       "0                                                0.0     \n",
       "1                                                0.0     \n",
       "2                                                0.0     \n",
       "3                                                0.0     \n",
       "4                                                0.0     \n",
       "\n",
       "   'Free_disk_space_on_S:'  'SQL_Server,_Cache:_Cache_Hit_Ratio'  'Anomaly'  \\\n",
       "0             1.396507e+10                               81.8883          1   \n",
       "1             1.396507e+10                               87.7246          1   \n",
       "2             1.396507e+10                               81.2514          1   \n",
       "3             1.396507e+10                               86.2335          1   \n",
       "4             1.396507e+10                               84.1061          1   \n",
       "\n",
       "   'Anomaly_Score'                      'Anomaly_Feature_1'  \\\n",
       "0         0.120815  SQL Server: Number of Blocked Processes   \n",
       "1         0.126713               Free disk space on J:\\LOGS   \n",
       "2         0.126454               Free disk space on J:\\LOGS   \n",
       "3         0.125662               Free disk space on J:\\LOGS   \n",
       "4         0.130407               Free disk space on J:\\LOGS   \n",
       "\n",
       "                       'Anomaly_Feature_2'  \\\n",
       "0               Free disk space on J:\\LOGS   \n",
       "1  SQL Server: Number of Blocked Processes   \n",
       "2  SQL Server: Number of Blocked Processes   \n",
       "3  SQL Server: Number of Blocked Processes   \n",
       "4  SQL Server: Number of Blocked Processes   \n",
       "\n",
       "                            'Anomaly_Feature_3'       'Y_Date_Time'  \n",
       "0                         Free disk space on J: 2020-06-01 00:00:00  \n",
       "1                         Free disk space on J: 2020-06-01 00:01:00  \n",
       "2            SQL Server, Cache: Cache Hit Ratio 2020-06-01 00:02:00  \n",
       "3  SQL Server, Memory Manager: Maximum Workspac 2020-06-01 00:03:00  \n",
       "4                         Free disk space on J: 2020-06-01 00:04:00  \n",
       "\n",
       "[5 rows x 142 columns]"
      ]
     },
     "execution_count": 200,
     "metadata": {},
     "output_type": "execute_result"
    }
   ],
   "source": [
    "df_pg.head()"
   ]
  },
  {
   "cell_type": "code",
   "execution_count": 212,
   "metadata": {},
   "outputs": [
    {
     "data": {
      "text/plain": [
       "['SQL Server, Buffer Manager: Page reads/sec',\n",
       " 'SQL Server, Buffer Manager: Checkpoint pages/sec',\n",
       " 'SQL Server, Buffer Manager: Database pages',\n",
       " 'SQL Server, Buffer Manager: Page life expectancy(PLE)',\n",
       " 'SQL Server, Buffer Manager: Free list stalls/sec',\n",
       " 'SQL Server, Buffer Manager: Page lookups/sec',\n",
       " 'SQL Server, Buffer Manager: Read-ahead pages/sec',\n",
       " 'SQL Server, Buffer Manager: Lazy writes/sec',\n",
       " 'SQL Server, Buffer Manager: % Buffer cache hit ratio',\n",
       " 'SQL Server, Buffer Manager: Page writes/sec',\n",
       " 'SQL Server, Buffer Manager: Target pages']"
      ]
     },
     "execution_count": 212,
     "metadata": {},
     "output_type": "execute_result"
    }
   ],
   "source": [
    "[x for x in df.columns if 'Buffer' in x]"
   ]
  },
  {
   "cell_type": "code",
   "execution_count": 203,
   "metadata": {},
   "outputs": [],
   "source": [
    "df_pg_copy = df_pg.copy()"
   ]
  },
  {
   "cell_type": "code",
   "execution_count": 204,
   "metadata": {},
   "outputs": [
    {
     "data": {
      "text/html": [
       "<div>\n",
       "<style scoped>\n",
       "    .dataframe tbody tr th:only-of-type {\n",
       "        vertical-align: middle;\n",
       "    }\n",
       "\n",
       "    .dataframe tbody tr th {\n",
       "        vertical-align: top;\n",
       "    }\n",
       "\n",
       "    .dataframe thead th {\n",
       "        text-align: right;\n",
       "    }\n",
       "</style>\n",
       "<table border=\"1\" class=\"dataframe\">\n",
       "  <thead>\n",
       "    <tr style=\"text-align: right;\">\n",
       "      <th></th>\n",
       "      <th>'Date_Time'</th>\n",
       "      <th>'Total_disk_space_on_K:'</th>\n",
       "      <th>'Total_disk_space_on_J:'</th>\n",
       "      <th>'Total_disk_space_on_N:\\LOGS'</th>\n",
       "      <th>'Total_disk_space_on_N:'</th>\n",
       "      <th>'SQL_Server,_Locks:_Lock_Waits_per_second_(Total)'</th>\n",
       "      <th>'SQL_Server,_Buffer_Manager:_Page_reads/sec'</th>\n",
       "      <th>'OUT_Traffic_on_WFP_Native_MAC_Layer_LightWeight_Filter0000'</th>\n",
       "      <th>'SQL_Server,_Locks:_Number_of_Deadlocks/sec_(Total)'</th>\n",
       "      <th>'Free_disk_space_on_V:'</th>\n",
       "      <th>...</th>\n",
       "      <th>'Free_disk_space_on_Q:'</th>\n",
       "      <th>'SQL_Server,_Memory_Manager:_Memory_Grants_Pending'</th>\n",
       "      <th>'Free_disk_space_on_S:'</th>\n",
       "      <th>'SQL_Server,_Cache:_Cache_Hit_Ratio'</th>\n",
       "      <th>'Anomaly'</th>\n",
       "      <th>'Anomaly_Score'</th>\n",
       "      <th>'Anomaly_Feature_1'</th>\n",
       "      <th>'Anomaly_Feature_2'</th>\n",
       "      <th>'Anomaly_Feature_3'</th>\n",
       "      <th>'Y_Date_Time'</th>\n",
       "    </tr>\n",
       "  </thead>\n",
       "  <tbody>\n",
       "    <tr>\n",
       "      <th>0</th>\n",
       "      <td>2020-06-16 05:17:00</td>\n",
       "      <td>8.938692e+11</td>\n",
       "      <td>9.663355e+10</td>\n",
       "      <td>5.365498e+09</td>\n",
       "      <td>2.899071e+11</td>\n",
       "      <td>0.0</td>\n",
       "      <td>0.0</td>\n",
       "      <td>1914432.0</td>\n",
       "      <td>0.0</td>\n",
       "      <td>1.661783e+10</td>\n",
       "      <td>...</td>\n",
       "      <td>3.090481e+10</td>\n",
       "      <td>0.0</td>\n",
       "      <td>1.396507e+10</td>\n",
       "      <td>81.8883</td>\n",
       "      <td>1</td>\n",
       "      <td>0.120815</td>\n",
       "      <td>SQL Server: Number of Blocked Processes</td>\n",
       "      <td>Free disk space on J:\\LOGS</td>\n",
       "      <td>Free disk space on J:</td>\n",
       "      <td>2020-06-01 00:00:00</td>\n",
       "    </tr>\n",
       "    <tr>\n",
       "      <th>1</th>\n",
       "      <td>2020-06-16 05:18:00</td>\n",
       "      <td>8.938692e+11</td>\n",
       "      <td>9.663355e+10</td>\n",
       "      <td>5.365498e+09</td>\n",
       "      <td>2.899071e+11</td>\n",
       "      <td>0.0</td>\n",
       "      <td>0.0</td>\n",
       "      <td>1760608.0</td>\n",
       "      <td>0.0</td>\n",
       "      <td>1.661783e+10</td>\n",
       "      <td>...</td>\n",
       "      <td>3.090481e+10</td>\n",
       "      <td>0.0</td>\n",
       "      <td>1.396507e+10</td>\n",
       "      <td>87.7246</td>\n",
       "      <td>1</td>\n",
       "      <td>0.126713</td>\n",
       "      <td>Free disk space on J:\\LOGS</td>\n",
       "      <td>SQL Server: Number of Blocked Processes</td>\n",
       "      <td>Free disk space on J:</td>\n",
       "      <td>2020-06-01 00:01:00</td>\n",
       "    </tr>\n",
       "    <tr>\n",
       "      <th>2</th>\n",
       "      <td>2020-06-16 05:19:00</td>\n",
       "      <td>8.938692e+11</td>\n",
       "      <td>9.663355e+10</td>\n",
       "      <td>5.365498e+09</td>\n",
       "      <td>2.899071e+11</td>\n",
       "      <td>0.0</td>\n",
       "      <td>0.0</td>\n",
       "      <td>1820848.0</td>\n",
       "      <td>0.0</td>\n",
       "      <td>1.661783e+10</td>\n",
       "      <td>...</td>\n",
       "      <td>3.090481e+10</td>\n",
       "      <td>0.0</td>\n",
       "      <td>1.396507e+10</td>\n",
       "      <td>81.2514</td>\n",
       "      <td>1</td>\n",
       "      <td>0.126454</td>\n",
       "      <td>Free disk space on J:\\LOGS</td>\n",
       "      <td>SQL Server: Number of Blocked Processes</td>\n",
       "      <td>SQL Server, Cache: Cache Hit Ratio</td>\n",
       "      <td>2020-06-01 00:02:00</td>\n",
       "    </tr>\n",
       "    <tr>\n",
       "      <th>3</th>\n",
       "      <td>2020-06-16 05:20:00</td>\n",
       "      <td>8.938692e+11</td>\n",
       "      <td>9.663355e+10</td>\n",
       "      <td>5.365498e+09</td>\n",
       "      <td>2.899071e+11</td>\n",
       "      <td>0.0</td>\n",
       "      <td>0.0</td>\n",
       "      <td>1720624.0</td>\n",
       "      <td>0.0</td>\n",
       "      <td>1.661783e+10</td>\n",
       "      <td>...</td>\n",
       "      <td>3.090481e+10</td>\n",
       "      <td>0.0</td>\n",
       "      <td>1.396507e+10</td>\n",
       "      <td>86.2335</td>\n",
       "      <td>1</td>\n",
       "      <td>0.125662</td>\n",
       "      <td>Free disk space on J:\\LOGS</td>\n",
       "      <td>SQL Server: Number of Blocked Processes</td>\n",
       "      <td>SQL Server, Memory Manager: Maximum Workspac</td>\n",
       "      <td>2020-06-01 00:03:00</td>\n",
       "    </tr>\n",
       "    <tr>\n",
       "      <th>4</th>\n",
       "      <td>2020-06-16 05:21:00</td>\n",
       "      <td>8.938692e+11</td>\n",
       "      <td>9.663355e+10</td>\n",
       "      <td>5.365498e+09</td>\n",
       "      <td>2.899071e+11</td>\n",
       "      <td>0.0</td>\n",
       "      <td>0.0</td>\n",
       "      <td>2609184.0</td>\n",
       "      <td>0.0</td>\n",
       "      <td>1.661783e+10</td>\n",
       "      <td>...</td>\n",
       "      <td>3.090481e+10</td>\n",
       "      <td>0.0</td>\n",
       "      <td>1.396507e+10</td>\n",
       "      <td>84.1061</td>\n",
       "      <td>1</td>\n",
       "      <td>0.130407</td>\n",
       "      <td>Free disk space on J:\\LOGS</td>\n",
       "      <td>SQL Server: Number of Blocked Processes</td>\n",
       "      <td>Free disk space on J:</td>\n",
       "      <td>2020-06-01 00:04:00</td>\n",
       "    </tr>\n",
       "  </tbody>\n",
       "</table>\n",
       "<p>5 rows × 142 columns</p>\n",
       "</div>"
      ],
      "text/plain": [
       "           'Date_Time'  'Total_disk_space_on_K:'  'Total_disk_space_on_J:'  \\\n",
       "0  2020-06-16 05:17:00              8.938692e+11              9.663355e+10   \n",
       "1  2020-06-16 05:18:00              8.938692e+11              9.663355e+10   \n",
       "2  2020-06-16 05:19:00              8.938692e+11              9.663355e+10   \n",
       "3  2020-06-16 05:20:00              8.938692e+11              9.663355e+10   \n",
       "4  2020-06-16 05:21:00              8.938692e+11              9.663355e+10   \n",
       "\n",
       "   'Total_disk_space_on_N:\\LOGS'  'Total_disk_space_on_N:'  \\\n",
       "0                   5.365498e+09              2.899071e+11   \n",
       "1                   5.365498e+09              2.899071e+11   \n",
       "2                   5.365498e+09              2.899071e+11   \n",
       "3                   5.365498e+09              2.899071e+11   \n",
       "4                   5.365498e+09              2.899071e+11   \n",
       "\n",
       "   'SQL_Server,_Locks:_Lock_Waits_per_second_(Total)'  \\\n",
       "0                                                0.0    \n",
       "1                                                0.0    \n",
       "2                                                0.0    \n",
       "3                                                0.0    \n",
       "4                                                0.0    \n",
       "\n",
       "   'SQL_Server,_Buffer_Manager:_Page_reads/sec'  \\\n",
       "0                                           0.0   \n",
       "1                                           0.0   \n",
       "2                                           0.0   \n",
       "3                                           0.0   \n",
       "4                                           0.0   \n",
       "\n",
       "   'OUT_Traffic_on_WFP_Native_MAC_Layer_LightWeight_Filter0000'  \\\n",
       "0                                          1914432.0              \n",
       "1                                          1760608.0              \n",
       "2                                          1820848.0              \n",
       "3                                          1720624.0              \n",
       "4                                          2609184.0              \n",
       "\n",
       "   'SQL_Server,_Locks:_Number_of_Deadlocks/sec_(Total)'  \\\n",
       "0                                                0.0      \n",
       "1                                                0.0      \n",
       "2                                                0.0      \n",
       "3                                                0.0      \n",
       "4                                                0.0      \n",
       "\n",
       "   'Free_disk_space_on_V:'  ...  'Free_disk_space_on_Q:'  \\\n",
       "0             1.661783e+10  ...             3.090481e+10   \n",
       "1             1.661783e+10  ...             3.090481e+10   \n",
       "2             1.661783e+10  ...             3.090481e+10   \n",
       "3             1.661783e+10  ...             3.090481e+10   \n",
       "4             1.661783e+10  ...             3.090481e+10   \n",
       "\n",
       "   'SQL_Server,_Memory_Manager:_Memory_Grants_Pending'  \\\n",
       "0                                                0.0     \n",
       "1                                                0.0     \n",
       "2                                                0.0     \n",
       "3                                                0.0     \n",
       "4                                                0.0     \n",
       "\n",
       "   'Free_disk_space_on_S:'  'SQL_Server,_Cache:_Cache_Hit_Ratio'  'Anomaly'  \\\n",
       "0             1.396507e+10                               81.8883          1   \n",
       "1             1.396507e+10                               87.7246          1   \n",
       "2             1.396507e+10                               81.2514          1   \n",
       "3             1.396507e+10                               86.2335          1   \n",
       "4             1.396507e+10                               84.1061          1   \n",
       "\n",
       "   'Anomaly_Score'                      'Anomaly_Feature_1'  \\\n",
       "0         0.120815  SQL Server: Number of Blocked Processes   \n",
       "1         0.126713               Free disk space on J:\\LOGS   \n",
       "2         0.126454               Free disk space on J:\\LOGS   \n",
       "3         0.125662               Free disk space on J:\\LOGS   \n",
       "4         0.130407               Free disk space on J:\\LOGS   \n",
       "\n",
       "                       'Anomaly_Feature_2'  \\\n",
       "0               Free disk space on J:\\LOGS   \n",
       "1  SQL Server: Number of Blocked Processes   \n",
       "2  SQL Server: Number of Blocked Processes   \n",
       "3  SQL Server: Number of Blocked Processes   \n",
       "4  SQL Server: Number of Blocked Processes   \n",
       "\n",
       "                            'Anomaly_Feature_3'       'Y_Date_Time'  \n",
       "0                         Free disk space on J: 2020-06-01 00:00:00  \n",
       "1                         Free disk space on J: 2020-06-01 00:01:00  \n",
       "2            SQL Server, Cache: Cache Hit Ratio 2020-06-01 00:02:00  \n",
       "3  SQL Server, Memory Manager: Maximum Workspac 2020-06-01 00:03:00  \n",
       "4                         Free disk space on J: 2020-06-01 00:04:00  \n",
       "\n",
       "[5 rows x 142 columns]"
      ]
     },
     "execution_count": 204,
     "metadata": {},
     "output_type": "execute_result"
    }
   ],
   "source": [
    "df_pg_copy.head()"
   ]
  },
  {
   "cell_type": "code",
   "execution_count": 234,
   "metadata": {},
   "outputs": [
    {
     "data": {
      "text/plain": [
       "17"
      ]
     },
     "execution_count": 234,
     "metadata": {},
     "output_type": "execute_result"
    }
   ],
   "source": [
    "len(df[df['Anomaly'] == -1]['Anomaly_Feature_1_1'].unique())"
   ]
  },
  {
   "cell_type": "code",
   "execution_count": 207,
   "metadata": {},
   "outputs": [],
   "source": [
    "# df_pg_copy.to_csv('/home/ubuntu/Zabbix/Data/DEMO_DATA/anomaly_demo_df_pg.csv')"
   ]
  }
 ],
 "metadata": {
  "kernelspec": {
   "display_name": "Python 3",
   "language": "python",
   "name": "python3"
  },
  "language_info": {
   "codemirror_mode": {
    "name": "ipython",
    "version": 3
   },
   "file_extension": ".py",
   "mimetype": "text/x-python",
   "name": "python",
   "nbconvert_exporter": "python",
   "pygments_lexer": "ipython3",
   "version": "3.8.3"
  }
 },
 "nbformat": 4,
 "nbformat_minor": 4
}
