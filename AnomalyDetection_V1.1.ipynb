{
 "cells": [
  {
   "cell_type": "code",
   "execution_count": 2,
   "metadata": {},
   "outputs": [],
   "source": [
    "import os"
   ]
  },
  {
   "cell_type": "code",
   "execution_count": 3,
   "metadata": {},
   "outputs": [],
   "source": [
    "import pandas as pd"
   ]
  },
  {
   "cell_type": "code",
   "execution_count": 4,
   "metadata": {},
   "outputs": [],
   "source": [
    "import numpy as np\n",
    "import matplotlib.pyplot as plt\n",
    "import seaborn as sns\n",
    "import matplotlib\n",
    "from sklearn.ensemble import IsolationForest"
   ]
  },
  {
   "cell_type": "code",
   "execution_count": 5,
   "metadata": {},
   "outputs": [],
   "source": [
    "# Scaling to standard scaler\n",
    "from sklearn.preprocessing import StandardScaler"
   ]
  },
  {
   "cell_type": "code",
   "execution_count": 6,
   "metadata": {},
   "outputs": [],
   "source": [
    "import shap"
   ]
  },
  {
   "cell_type": "markdown",
   "metadata": {},
   "source": [
    "# Read SRV-FR-SQLN-11"
   ]
  },
  {
   "cell_type": "code",
   "execution_count": 7,
   "metadata": {},
   "outputs": [],
   "source": [
    "df_11 = pd.read_csv('/home/ubuntu/Zabbix/Data/SRV_Data/SRV_Processed/SRV-FR-SQLN-11_Processed.csv')"
   ]
  },
  {
   "cell_type": "code",
   "execution_count": 8,
   "metadata": {},
   "outputs": [
    {
     "data": {
      "text/plain": [
       "1647653"
      ]
     },
     "execution_count": 8,
     "metadata": {},
     "output_type": "execute_result"
    }
   ],
   "source": [
    "# Missing Values\n",
    "\n",
    "df_11.isnull().sum().sum()"
   ]
  },
  {
   "cell_type": "code",
   "execution_count": 9,
   "metadata": {},
   "outputs": [
    {
     "name": "stdout",
     "output_type": "stream",
     "text": [
      "0\n"
     ]
    }
   ],
   "source": [
    "# Missing Value Treatment\n",
    "df_11 = df_11.set_index('Timestamp').fillna(df_11.mean())\n",
    "print(df_11.isnull().sum().sum())"
   ]
  },
  {
   "cell_type": "markdown",
   "metadata": {},
   "source": [
    "## Group of Col"
   ]
  },
  {
   "cell_type": "code",
   "execution_count": 10,
   "metadata": {},
   "outputs": [],
   "source": [
    "buffer_col = [x for x in list(df_11.columns) if 'Buffer' in x] "
   ]
  },
  {
   "cell_type": "markdown",
   "metadata": {},
   "source": [
    "## data_11"
   ]
  },
  {
   "cell_type": "code",
   "execution_count": 11,
   "metadata": {},
   "outputs": [],
   "source": [
    "# Copy of df_11\n",
    "\n",
    "data_11 = df_11.copy()"
   ]
  },
  {
   "cell_type": "code",
   "execution_count": 12,
   "metadata": {},
   "outputs": [
    {
     "name": "stdout",
     "output_type": "stream",
     "text": [
      "Timestamp\n"
     ]
    }
   ],
   "source": [
    "print(data_11.index.name)\n",
    "data_11.index.rename('Date_Time', inplace = True)"
   ]
  },
  {
   "cell_type": "markdown",
   "metadata": {},
   "source": [
    "# "
   ]
  },
  {
   "cell_type": "code",
   "execution_count": 13,
   "metadata": {},
   "outputs": [
    {
     "data": {
      "text/plain": [
       "StandardScaler()"
      ]
     },
     "execution_count": 13,
     "metadata": {},
     "output_type": "execute_result"
    }
   ],
   "source": [
    "scaler = StandardScaler()\n",
    "scaler.fit(data_11.values)"
   ]
  },
  {
   "cell_type": "code",
   "execution_count": 14,
   "metadata": {},
   "outputs": [],
   "source": [
    "data_11_scaled = scaler.transform(data_11.values)"
   ]
  },
  {
   "cell_type": "code",
   "execution_count": 15,
   "metadata": {},
   "outputs": [
    {
     "data": {
      "text/plain": [
       "IsolationForest(random_state=25)"
      ]
     },
     "execution_count": 15,
     "metadata": {},
     "output_type": "execute_result"
    }
   ],
   "source": [
    "outliers_fraction = 0.001\n",
    "model_11 =  IsolationForest(random_state = 25)#contamination=outliers_fraction) \n",
    "#random_state = 24 # 161 anomaly\n",
    "model_11.fit(data_11_scaled) "
   ]
  },
  {
   "cell_type": "code",
   "execution_count": 16,
   "metadata": {},
   "outputs": [
    {
     "data": {
      "text/plain": [
       " 1    44958\n",
       "-1      312\n",
       "dtype: int64"
      ]
     },
     "execution_count": 16,
     "metadata": {},
     "output_type": "execute_result"
    }
   ],
   "source": [
    "pd.Series(model_11.predict(data_11_scaled)).value_counts()"
   ]
  },
  {
   "cell_type": "code",
   "execution_count": 17,
   "metadata": {},
   "outputs": [
    {
     "name": "stdout",
     "output_type": "stream",
     "text": [
      "Percentage of Anomaly :  0.4 %\n"
     ]
    }
   ],
   "source": [
    "print(\"Percentage of Anomaly : \", round(161/45270, 3)*100, \"%\")"
   ]
  },
  {
   "cell_type": "code",
   "execution_count": 18,
   "metadata": {},
   "outputs": [],
   "source": [
    "data_11['Anomaly'] = pd.Series(model_11.predict(data_11_scaled), index = data_11.index)"
   ]
  },
  {
   "cell_type": "code",
   "execution_count": 19,
   "metadata": {},
   "outputs": [],
   "source": [
    "# DecsionScore\n",
    "\n",
    "data_11_anomaly_score = pd.Series(model_11.decision_function(data_11_scaled), index = data_11.index)"
   ]
  },
  {
   "cell_type": "code",
   "execution_count": 20,
   "metadata": {},
   "outputs": [],
   "source": [
    "data_11['Anomaly_Score'] = data_11_anomaly_score"
   ]
  },
  {
   "cell_type": "code",
   "execution_count": 21,
   "metadata": {},
   "outputs": [
    {
     "data": {
      "text/plain": [
       "(45270, 137)"
      ]
     },
     "execution_count": 21,
     "metadata": {},
     "output_type": "execute_result"
    }
   ],
   "source": [
    "data_11.shape"
   ]
  },
  {
   "cell_type": "code",
   "execution_count": 22,
   "metadata": {},
   "outputs": [
    {
     "data": {
      "text/html": [
       "<div>\n",
       "<style scoped>\n",
       "    .dataframe tbody tr th:only-of-type {\n",
       "        vertical-align: middle;\n",
       "    }\n",
       "\n",
       "    .dataframe tbody tr th {\n",
       "        vertical-align: top;\n",
       "    }\n",
       "\n",
       "    .dataframe thead th {\n",
       "        text-align: right;\n",
       "    }\n",
       "</style>\n",
       "<table border=\"1\" class=\"dataframe\">\n",
       "  <thead>\n",
       "    <tr style=\"text-align: right;\">\n",
       "      <th></th>\n",
       "      <th>Total disk space on K:</th>\n",
       "      <th>Total disk space on J:</th>\n",
       "      <th>Total disk space on N:\\LOGS</th>\n",
       "      <th>Total disk space on N:</th>\n",
       "      <th>SQL Server, Locks: Lock Waits per second (Total)</th>\n",
       "      <th>SQL Server, Buffer Manager: Page reads/sec</th>\n",
       "      <th>Outgoing network traffic on vmxnet3 Ethernet Adapter-WFP Native MAC Layer LightWeight Filter-0000</th>\n",
       "      <th>SQL Server, Locks: Number of Deadlocks/sec (Total)</th>\n",
       "      <th>Free disk space on V:</th>\n",
       "      <th>Total disk space on Q:\\LOGS</th>\n",
       "      <th>...</th>\n",
       "      <th>Free disk space on R:\\LOGS</th>\n",
       "      <th>Free disk space on G:</th>\n",
       "      <th>Free disk space on N:\\LOGS</th>\n",
       "      <th>Free disk space on H:\\LOGS</th>\n",
       "      <th>Free disk space on Q:</th>\n",
       "      <th>SQL Server, Memory Manager: Memory Grants Pending</th>\n",
       "      <th>Free disk space on S:</th>\n",
       "      <th>SQL Server, Cache: Cache Hit Ratio</th>\n",
       "      <th>Anomaly</th>\n",
       "      <th>Anomaly_Score</th>\n",
       "    </tr>\n",
       "    <tr>\n",
       "      <th>Date_Time</th>\n",
       "      <th></th>\n",
       "      <th></th>\n",
       "      <th></th>\n",
       "      <th></th>\n",
       "      <th></th>\n",
       "      <th></th>\n",
       "      <th></th>\n",
       "      <th></th>\n",
       "      <th></th>\n",
       "      <th></th>\n",
       "      <th></th>\n",
       "      <th></th>\n",
       "      <th></th>\n",
       "      <th></th>\n",
       "      <th></th>\n",
       "      <th></th>\n",
       "      <th></th>\n",
       "      <th></th>\n",
       "      <th></th>\n",
       "      <th></th>\n",
       "      <th></th>\n",
       "    </tr>\n",
       "  </thead>\n",
       "  <tbody>\n",
       "    <tr>\n",
       "      <th>2020-06-16 05:17:00</th>\n",
       "      <td>8.938692e+11</td>\n",
       "      <td>9.663355e+10</td>\n",
       "      <td>5.365498e+09</td>\n",
       "      <td>2.899071e+11</td>\n",
       "      <td>0.0</td>\n",
       "      <td>0.0</td>\n",
       "      <td>1914432.0</td>\n",
       "      <td>0.0</td>\n",
       "      <td>1.661783e+10</td>\n",
       "      <td>5.365498e+09</td>\n",
       "      <td>...</td>\n",
       "      <td>5.037883e+09</td>\n",
       "      <td>4.036710e+10</td>\n",
       "      <td>3.435790e+09</td>\n",
       "      <td>4.689887e+09</td>\n",
       "      <td>3.090481e+10</td>\n",
       "      <td>0.0</td>\n",
       "      <td>1.396507e+10</td>\n",
       "      <td>81.8883</td>\n",
       "      <td>1</td>\n",
       "      <td>0.106113</td>\n",
       "    </tr>\n",
       "    <tr>\n",
       "      <th>2020-06-16 05:18:00</th>\n",
       "      <td>8.938692e+11</td>\n",
       "      <td>9.663355e+10</td>\n",
       "      <td>5.365498e+09</td>\n",
       "      <td>2.899071e+11</td>\n",
       "      <td>0.0</td>\n",
       "      <td>0.0</td>\n",
       "      <td>1760608.0</td>\n",
       "      <td>0.0</td>\n",
       "      <td>1.661783e+10</td>\n",
       "      <td>5.365498e+09</td>\n",
       "      <td>...</td>\n",
       "      <td>5.037883e+09</td>\n",
       "      <td>4.036710e+10</td>\n",
       "      <td>3.435790e+09</td>\n",
       "      <td>4.689887e+09</td>\n",
       "      <td>3.090481e+10</td>\n",
       "      <td>0.0</td>\n",
       "      <td>1.396507e+10</td>\n",
       "      <td>87.7246</td>\n",
       "      <td>1</td>\n",
       "      <td>0.103283</td>\n",
       "    </tr>\n",
       "    <tr>\n",
       "      <th>2020-06-16 05:19:00</th>\n",
       "      <td>8.938692e+11</td>\n",
       "      <td>9.663355e+10</td>\n",
       "      <td>5.365498e+09</td>\n",
       "      <td>2.899071e+11</td>\n",
       "      <td>0.0</td>\n",
       "      <td>0.0</td>\n",
       "      <td>1820848.0</td>\n",
       "      <td>0.0</td>\n",
       "      <td>1.661783e+10</td>\n",
       "      <td>5.365498e+09</td>\n",
       "      <td>...</td>\n",
       "      <td>5.037883e+09</td>\n",
       "      <td>4.036710e+10</td>\n",
       "      <td>3.435790e+09</td>\n",
       "      <td>4.689887e+09</td>\n",
       "      <td>3.090481e+10</td>\n",
       "      <td>0.0</td>\n",
       "      <td>1.396507e+10</td>\n",
       "      <td>81.2514</td>\n",
       "      <td>1</td>\n",
       "      <td>0.106393</td>\n",
       "    </tr>\n",
       "    <tr>\n",
       "      <th>2020-06-16 05:20:00</th>\n",
       "      <td>8.938692e+11</td>\n",
       "      <td>9.663355e+10</td>\n",
       "      <td>5.365498e+09</td>\n",
       "      <td>2.899071e+11</td>\n",
       "      <td>0.0</td>\n",
       "      <td>0.0</td>\n",
       "      <td>1720624.0</td>\n",
       "      <td>0.0</td>\n",
       "      <td>1.661783e+10</td>\n",
       "      <td>5.365498e+09</td>\n",
       "      <td>...</td>\n",
       "      <td>5.037883e+09</td>\n",
       "      <td>4.036710e+10</td>\n",
       "      <td>3.435790e+09</td>\n",
       "      <td>4.689887e+09</td>\n",
       "      <td>3.090481e+10</td>\n",
       "      <td>0.0</td>\n",
       "      <td>1.396507e+10</td>\n",
       "      <td>86.2335</td>\n",
       "      <td>1</td>\n",
       "      <td>0.106126</td>\n",
       "    </tr>\n",
       "    <tr>\n",
       "      <th>2020-06-16 05:21:00</th>\n",
       "      <td>8.938692e+11</td>\n",
       "      <td>9.663355e+10</td>\n",
       "      <td>5.365498e+09</td>\n",
       "      <td>2.899071e+11</td>\n",
       "      <td>0.0</td>\n",
       "      <td>0.0</td>\n",
       "      <td>2609184.0</td>\n",
       "      <td>0.0</td>\n",
       "      <td>1.661783e+10</td>\n",
       "      <td>5.365498e+09</td>\n",
       "      <td>...</td>\n",
       "      <td>5.037883e+09</td>\n",
       "      <td>4.036710e+10</td>\n",
       "      <td>3.435790e+09</td>\n",
       "      <td>4.689887e+09</td>\n",
       "      <td>3.090481e+10</td>\n",
       "      <td>0.0</td>\n",
       "      <td>1.396507e+10</td>\n",
       "      <td>84.1061</td>\n",
       "      <td>1</td>\n",
       "      <td>0.104877</td>\n",
       "    </tr>\n",
       "    <tr>\n",
       "      <th>...</th>\n",
       "      <td>...</td>\n",
       "      <td>...</td>\n",
       "      <td>...</td>\n",
       "      <td>...</td>\n",
       "      <td>...</td>\n",
       "      <td>...</td>\n",
       "      <td>...</td>\n",
       "      <td>...</td>\n",
       "      <td>...</td>\n",
       "      <td>...</td>\n",
       "      <td>...</td>\n",
       "      <td>...</td>\n",
       "      <td>...</td>\n",
       "      <td>...</td>\n",
       "      <td>...</td>\n",
       "      <td>...</td>\n",
       "      <td>...</td>\n",
       "      <td>...</td>\n",
       "      <td>...</td>\n",
       "      <td>...</td>\n",
       "      <td>...</td>\n",
       "    </tr>\n",
       "    <tr>\n",
       "      <th>2020-07-20 01:09:00</th>\n",
       "      <td>8.938692e+11</td>\n",
       "      <td>9.663355e+10</td>\n",
       "      <td>5.365498e+09</td>\n",
       "      <td>2.899071e+11</td>\n",
       "      <td>0.0</td>\n",
       "      <td>0.0</td>\n",
       "      <td>2231720.0</td>\n",
       "      <td>0.0</td>\n",
       "      <td>6.161638e+10</td>\n",
       "      <td>5.365498e+09</td>\n",
       "      <td>...</td>\n",
       "      <td>5.037883e+09</td>\n",
       "      <td>4.018851e+10</td>\n",
       "      <td>3.210936e+09</td>\n",
       "      <td>4.689887e+09</td>\n",
       "      <td>2.738160e+10</td>\n",
       "      <td>0.0</td>\n",
       "      <td>1.396507e+10</td>\n",
       "      <td>85.7028</td>\n",
       "      <td>1</td>\n",
       "      <td>0.128097</td>\n",
       "    </tr>\n",
       "    <tr>\n",
       "      <th>2020-07-20 01:10:00</th>\n",
       "      <td>8.938692e+11</td>\n",
       "      <td>9.663355e+10</td>\n",
       "      <td>5.365498e+09</td>\n",
       "      <td>2.899071e+11</td>\n",
       "      <td>0.0</td>\n",
       "      <td>0.0</td>\n",
       "      <td>1912752.0</td>\n",
       "      <td>0.0</td>\n",
       "      <td>1.009493e+11</td>\n",
       "      <td>5.365498e+09</td>\n",
       "      <td>...</td>\n",
       "      <td>5.037883e+09</td>\n",
       "      <td>4.018851e+10</td>\n",
       "      <td>3.210936e+09</td>\n",
       "      <td>4.689887e+09</td>\n",
       "      <td>2.738160e+10</td>\n",
       "      <td>0.0</td>\n",
       "      <td>1.396507e+10</td>\n",
       "      <td>90.9751</td>\n",
       "      <td>1</td>\n",
       "      <td>0.124052</td>\n",
       "    </tr>\n",
       "    <tr>\n",
       "      <th>2020-07-20 01:11:00</th>\n",
       "      <td>8.938692e+11</td>\n",
       "      <td>9.663355e+10</td>\n",
       "      <td>5.365498e+09</td>\n",
       "      <td>2.899071e+11</td>\n",
       "      <td>0.0</td>\n",
       "      <td>0.0</td>\n",
       "      <td>1684728.0</td>\n",
       "      <td>0.0</td>\n",
       "      <td>1.009493e+11</td>\n",
       "      <td>5.365498e+09</td>\n",
       "      <td>...</td>\n",
       "      <td>5.037883e+09</td>\n",
       "      <td>4.018851e+10</td>\n",
       "      <td>3.210936e+09</td>\n",
       "      <td>4.689887e+09</td>\n",
       "      <td>2.738160e+10</td>\n",
       "      <td>0.0</td>\n",
       "      <td>1.396507e+10</td>\n",
       "      <td>90.6480</td>\n",
       "      <td>1</td>\n",
       "      <td>0.132789</td>\n",
       "    </tr>\n",
       "    <tr>\n",
       "      <th>2020-07-20 01:12:00</th>\n",
       "      <td>8.938692e+11</td>\n",
       "      <td>9.663355e+10</td>\n",
       "      <td>5.365498e+09</td>\n",
       "      <td>2.899071e+11</td>\n",
       "      <td>0.0</td>\n",
       "      <td>0.0</td>\n",
       "      <td>1719832.0</td>\n",
       "      <td>0.0</td>\n",
       "      <td>1.009493e+11</td>\n",
       "      <td>5.365498e+09</td>\n",
       "      <td>...</td>\n",
       "      <td>5.037883e+09</td>\n",
       "      <td>4.018851e+10</td>\n",
       "      <td>3.210936e+09</td>\n",
       "      <td>4.689887e+09</td>\n",
       "      <td>2.738160e+10</td>\n",
       "      <td>0.0</td>\n",
       "      <td>1.395155e+10</td>\n",
       "      <td>88.5968</td>\n",
       "      <td>1</td>\n",
       "      <td>0.137472</td>\n",
       "    </tr>\n",
       "    <tr>\n",
       "      <th>2020-07-20 01:13:00</th>\n",
       "      <td>8.938692e+11</td>\n",
       "      <td>9.663355e+10</td>\n",
       "      <td>5.365498e+09</td>\n",
       "      <td>2.899071e+11</td>\n",
       "      <td>0.0</td>\n",
       "      <td>0.0</td>\n",
       "      <td>1667936.0</td>\n",
       "      <td>0.0</td>\n",
       "      <td>1.009493e+11</td>\n",
       "      <td>5.365498e+09</td>\n",
       "      <td>...</td>\n",
       "      <td>5.037883e+09</td>\n",
       "      <td>4.018851e+10</td>\n",
       "      <td>3.210936e+09</td>\n",
       "      <td>4.689887e+09</td>\n",
       "      <td>2.738160e+10</td>\n",
       "      <td>0.0</td>\n",
       "      <td>1.396507e+10</td>\n",
       "      <td>89.0128</td>\n",
       "      <td>1</td>\n",
       "      <td>0.131331</td>\n",
       "    </tr>\n",
       "  </tbody>\n",
       "</table>\n",
       "<p>45270 rows × 137 columns</p>\n",
       "</div>"
      ],
      "text/plain": [
       "                     Total disk space on K:  Total disk space on J:  \\\n",
       "Date_Time                                                             \n",
       "2020-06-16 05:17:00            8.938692e+11            9.663355e+10   \n",
       "2020-06-16 05:18:00            8.938692e+11            9.663355e+10   \n",
       "2020-06-16 05:19:00            8.938692e+11            9.663355e+10   \n",
       "2020-06-16 05:20:00            8.938692e+11            9.663355e+10   \n",
       "2020-06-16 05:21:00            8.938692e+11            9.663355e+10   \n",
       "...                                     ...                     ...   \n",
       "2020-07-20 01:09:00            8.938692e+11            9.663355e+10   \n",
       "2020-07-20 01:10:00            8.938692e+11            9.663355e+10   \n",
       "2020-07-20 01:11:00            8.938692e+11            9.663355e+10   \n",
       "2020-07-20 01:12:00            8.938692e+11            9.663355e+10   \n",
       "2020-07-20 01:13:00            8.938692e+11            9.663355e+10   \n",
       "\n",
       "                     Total disk space on N:\\LOGS  Total disk space on N:  \\\n",
       "Date_Time                                                                  \n",
       "2020-06-16 05:17:00                 5.365498e+09            2.899071e+11   \n",
       "2020-06-16 05:18:00                 5.365498e+09            2.899071e+11   \n",
       "2020-06-16 05:19:00                 5.365498e+09            2.899071e+11   \n",
       "2020-06-16 05:20:00                 5.365498e+09            2.899071e+11   \n",
       "2020-06-16 05:21:00                 5.365498e+09            2.899071e+11   \n",
       "...                                          ...                     ...   \n",
       "2020-07-20 01:09:00                 5.365498e+09            2.899071e+11   \n",
       "2020-07-20 01:10:00                 5.365498e+09            2.899071e+11   \n",
       "2020-07-20 01:11:00                 5.365498e+09            2.899071e+11   \n",
       "2020-07-20 01:12:00                 5.365498e+09            2.899071e+11   \n",
       "2020-07-20 01:13:00                 5.365498e+09            2.899071e+11   \n",
       "\n",
       "                     SQL Server, Locks: Lock Waits per second (Total)  \\\n",
       "Date_Time                                                               \n",
       "2020-06-16 05:17:00                                               0.0   \n",
       "2020-06-16 05:18:00                                               0.0   \n",
       "2020-06-16 05:19:00                                               0.0   \n",
       "2020-06-16 05:20:00                                               0.0   \n",
       "2020-06-16 05:21:00                                               0.0   \n",
       "...                                                               ...   \n",
       "2020-07-20 01:09:00                                               0.0   \n",
       "2020-07-20 01:10:00                                               0.0   \n",
       "2020-07-20 01:11:00                                               0.0   \n",
       "2020-07-20 01:12:00                                               0.0   \n",
       "2020-07-20 01:13:00                                               0.0   \n",
       "\n",
       "                     SQL Server, Buffer Manager: Page reads/sec  \\\n",
       "Date_Time                                                         \n",
       "2020-06-16 05:17:00                                         0.0   \n",
       "2020-06-16 05:18:00                                         0.0   \n",
       "2020-06-16 05:19:00                                         0.0   \n",
       "2020-06-16 05:20:00                                         0.0   \n",
       "2020-06-16 05:21:00                                         0.0   \n",
       "...                                                         ...   \n",
       "2020-07-20 01:09:00                                         0.0   \n",
       "2020-07-20 01:10:00                                         0.0   \n",
       "2020-07-20 01:11:00                                         0.0   \n",
       "2020-07-20 01:12:00                                         0.0   \n",
       "2020-07-20 01:13:00                                         0.0   \n",
       "\n",
       "                     Outgoing network traffic on vmxnet3 Ethernet Adapter-WFP Native MAC Layer LightWeight Filter-0000  \\\n",
       "Date_Time                                                                                                                \n",
       "2020-06-16 05:17:00                                          1914432.0                                                   \n",
       "2020-06-16 05:18:00                                          1760608.0                                                   \n",
       "2020-06-16 05:19:00                                          1820848.0                                                   \n",
       "2020-06-16 05:20:00                                          1720624.0                                                   \n",
       "2020-06-16 05:21:00                                          2609184.0                                                   \n",
       "...                                                                ...                                                   \n",
       "2020-07-20 01:09:00                                          2231720.0                                                   \n",
       "2020-07-20 01:10:00                                          1912752.0                                                   \n",
       "2020-07-20 01:11:00                                          1684728.0                                                   \n",
       "2020-07-20 01:12:00                                          1719832.0                                                   \n",
       "2020-07-20 01:13:00                                          1667936.0                                                   \n",
       "\n",
       "                     SQL Server, Locks: Number of Deadlocks/sec (Total)  \\\n",
       "Date_Time                                                                 \n",
       "2020-06-16 05:17:00                                                0.0    \n",
       "2020-06-16 05:18:00                                                0.0    \n",
       "2020-06-16 05:19:00                                                0.0    \n",
       "2020-06-16 05:20:00                                                0.0    \n",
       "2020-06-16 05:21:00                                                0.0    \n",
       "...                                                                ...    \n",
       "2020-07-20 01:09:00                                                0.0    \n",
       "2020-07-20 01:10:00                                                0.0    \n",
       "2020-07-20 01:11:00                                                0.0    \n",
       "2020-07-20 01:12:00                                                0.0    \n",
       "2020-07-20 01:13:00                                                0.0    \n",
       "\n",
       "                     Free disk space on V:  Total disk space on Q:\\LOGS  ...  \\\n",
       "Date_Time                                                                ...   \n",
       "2020-06-16 05:17:00           1.661783e+10                 5.365498e+09  ...   \n",
       "2020-06-16 05:18:00           1.661783e+10                 5.365498e+09  ...   \n",
       "2020-06-16 05:19:00           1.661783e+10                 5.365498e+09  ...   \n",
       "2020-06-16 05:20:00           1.661783e+10                 5.365498e+09  ...   \n",
       "2020-06-16 05:21:00           1.661783e+10                 5.365498e+09  ...   \n",
       "...                                    ...                          ...  ...   \n",
       "2020-07-20 01:09:00           6.161638e+10                 5.365498e+09  ...   \n",
       "2020-07-20 01:10:00           1.009493e+11                 5.365498e+09  ...   \n",
       "2020-07-20 01:11:00           1.009493e+11                 5.365498e+09  ...   \n",
       "2020-07-20 01:12:00           1.009493e+11                 5.365498e+09  ...   \n",
       "2020-07-20 01:13:00           1.009493e+11                 5.365498e+09  ...   \n",
       "\n",
       "                     Free disk space on R:\\LOGS  Free disk space on G:  \\\n",
       "Date_Time                                                                \n",
       "2020-06-16 05:17:00                5.037883e+09           4.036710e+10   \n",
       "2020-06-16 05:18:00                5.037883e+09           4.036710e+10   \n",
       "2020-06-16 05:19:00                5.037883e+09           4.036710e+10   \n",
       "2020-06-16 05:20:00                5.037883e+09           4.036710e+10   \n",
       "2020-06-16 05:21:00                5.037883e+09           4.036710e+10   \n",
       "...                                         ...                    ...   \n",
       "2020-07-20 01:09:00                5.037883e+09           4.018851e+10   \n",
       "2020-07-20 01:10:00                5.037883e+09           4.018851e+10   \n",
       "2020-07-20 01:11:00                5.037883e+09           4.018851e+10   \n",
       "2020-07-20 01:12:00                5.037883e+09           4.018851e+10   \n",
       "2020-07-20 01:13:00                5.037883e+09           4.018851e+10   \n",
       "\n",
       "                     Free disk space on N:\\LOGS  Free disk space on H:\\LOGS  \\\n",
       "Date_Time                                                                     \n",
       "2020-06-16 05:17:00                3.435790e+09                4.689887e+09   \n",
       "2020-06-16 05:18:00                3.435790e+09                4.689887e+09   \n",
       "2020-06-16 05:19:00                3.435790e+09                4.689887e+09   \n",
       "2020-06-16 05:20:00                3.435790e+09                4.689887e+09   \n",
       "2020-06-16 05:21:00                3.435790e+09                4.689887e+09   \n",
       "...                                         ...                         ...   \n",
       "2020-07-20 01:09:00                3.210936e+09                4.689887e+09   \n",
       "2020-07-20 01:10:00                3.210936e+09                4.689887e+09   \n",
       "2020-07-20 01:11:00                3.210936e+09                4.689887e+09   \n",
       "2020-07-20 01:12:00                3.210936e+09                4.689887e+09   \n",
       "2020-07-20 01:13:00                3.210936e+09                4.689887e+09   \n",
       "\n",
       "                     Free disk space on Q:  \\\n",
       "Date_Time                                    \n",
       "2020-06-16 05:17:00           3.090481e+10   \n",
       "2020-06-16 05:18:00           3.090481e+10   \n",
       "2020-06-16 05:19:00           3.090481e+10   \n",
       "2020-06-16 05:20:00           3.090481e+10   \n",
       "2020-06-16 05:21:00           3.090481e+10   \n",
       "...                                    ...   \n",
       "2020-07-20 01:09:00           2.738160e+10   \n",
       "2020-07-20 01:10:00           2.738160e+10   \n",
       "2020-07-20 01:11:00           2.738160e+10   \n",
       "2020-07-20 01:12:00           2.738160e+10   \n",
       "2020-07-20 01:13:00           2.738160e+10   \n",
       "\n",
       "                     SQL Server, Memory Manager: Memory Grants Pending  \\\n",
       "Date_Time                                                                \n",
       "2020-06-16 05:17:00                                                0.0   \n",
       "2020-06-16 05:18:00                                                0.0   \n",
       "2020-06-16 05:19:00                                                0.0   \n",
       "2020-06-16 05:20:00                                                0.0   \n",
       "2020-06-16 05:21:00                                                0.0   \n",
       "...                                                                ...   \n",
       "2020-07-20 01:09:00                                                0.0   \n",
       "2020-07-20 01:10:00                                                0.0   \n",
       "2020-07-20 01:11:00                                                0.0   \n",
       "2020-07-20 01:12:00                                                0.0   \n",
       "2020-07-20 01:13:00                                                0.0   \n",
       "\n",
       "                     Free disk space on S:  \\\n",
       "Date_Time                                    \n",
       "2020-06-16 05:17:00           1.396507e+10   \n",
       "2020-06-16 05:18:00           1.396507e+10   \n",
       "2020-06-16 05:19:00           1.396507e+10   \n",
       "2020-06-16 05:20:00           1.396507e+10   \n",
       "2020-06-16 05:21:00           1.396507e+10   \n",
       "...                                    ...   \n",
       "2020-07-20 01:09:00           1.396507e+10   \n",
       "2020-07-20 01:10:00           1.396507e+10   \n",
       "2020-07-20 01:11:00           1.396507e+10   \n",
       "2020-07-20 01:12:00           1.395155e+10   \n",
       "2020-07-20 01:13:00           1.396507e+10   \n",
       "\n",
       "                     SQL Server, Cache: Cache Hit Ratio  Anomaly  \\\n",
       "Date_Time                                                          \n",
       "2020-06-16 05:17:00                             81.8883        1   \n",
       "2020-06-16 05:18:00                             87.7246        1   \n",
       "2020-06-16 05:19:00                             81.2514        1   \n",
       "2020-06-16 05:20:00                             86.2335        1   \n",
       "2020-06-16 05:21:00                             84.1061        1   \n",
       "...                                                 ...      ...   \n",
       "2020-07-20 01:09:00                             85.7028        1   \n",
       "2020-07-20 01:10:00                             90.9751        1   \n",
       "2020-07-20 01:11:00                             90.6480        1   \n",
       "2020-07-20 01:12:00                             88.5968        1   \n",
       "2020-07-20 01:13:00                             89.0128        1   \n",
       "\n",
       "                     Anomaly_Score  \n",
       "Date_Time                           \n",
       "2020-06-16 05:17:00       0.106113  \n",
       "2020-06-16 05:18:00       0.103283  \n",
       "2020-06-16 05:19:00       0.106393  \n",
       "2020-06-16 05:20:00       0.106126  \n",
       "2020-06-16 05:21:00       0.104877  \n",
       "...                            ...  \n",
       "2020-07-20 01:09:00       0.128097  \n",
       "2020-07-20 01:10:00       0.124052  \n",
       "2020-07-20 01:11:00       0.132789  \n",
       "2020-07-20 01:12:00       0.137472  \n",
       "2020-07-20 01:13:00       0.131331  \n",
       "\n",
       "[45270 rows x 137 columns]"
      ]
     },
     "execution_count": 22,
     "metadata": {},
     "output_type": "execute_result"
    }
   ],
   "source": [
    "data_11"
   ]
  },
  {
   "cell_type": "code",
   "execution_count": 23,
   "metadata": {},
   "outputs": [
    {
     "data": {
      "text/html": [
       "<div>\n",
       "<style scoped>\n",
       "    .dataframe tbody tr th:only-of-type {\n",
       "        vertical-align: middle;\n",
       "    }\n",
       "\n",
       "    .dataframe tbody tr th {\n",
       "        vertical-align: top;\n",
       "    }\n",
       "\n",
       "    .dataframe thead th {\n",
       "        text-align: right;\n",
       "    }\n",
       "</style>\n",
       "<table border=\"1\" class=\"dataframe\">\n",
       "  <thead>\n",
       "    <tr style=\"text-align: right;\">\n",
       "      <th></th>\n",
       "      <th>SQL Server, Buffer Manager: Page reads/sec</th>\n",
       "      <th>SQL Server, Buffer Manager: Checkpoint pages/sec</th>\n",
       "      <th>SQL Server, Buffer Manager: Database pages</th>\n",
       "      <th>SQL Server, Buffer Manager: Page life expectancy(PLE)</th>\n",
       "      <th>SQL Server, Buffer Manager: Free list stalls/sec</th>\n",
       "      <th>SQL Server, Buffer Manager: Page lookups/sec</th>\n",
       "      <th>SQL Server, Buffer Manager: Read-ahead pages/sec</th>\n",
       "      <th>SQL Server, Buffer Manager: Lazy writes/sec</th>\n",
       "      <th>SQL Server, Buffer Manager: % Buffer cache hit ratio</th>\n",
       "      <th>SQL Server, Buffer Manager: Page writes/sec</th>\n",
       "      <th>SQL Server, Buffer Manager: Target pages</th>\n",
       "    </tr>\n",
       "    <tr>\n",
       "      <th>Date_Time</th>\n",
       "      <th></th>\n",
       "      <th></th>\n",
       "      <th></th>\n",
       "      <th></th>\n",
       "      <th></th>\n",
       "      <th></th>\n",
       "      <th></th>\n",
       "      <th></th>\n",
       "      <th></th>\n",
       "      <th></th>\n",
       "      <th></th>\n",
       "    </tr>\n",
       "  </thead>\n",
       "  <tbody>\n",
       "    <tr>\n",
       "      <th>2020-06-20 00:12:00</th>\n",
       "      <td>1040.6580</td>\n",
       "      <td>0.0</td>\n",
       "      <td>2642649.0</td>\n",
       "      <td>9.651900</td>\n",
       "      <td>0.0</td>\n",
       "      <td>148494.5635</td>\n",
       "      <td>303.2603</td>\n",
       "      <td>1491.6838</td>\n",
       "      <td>94.1072</td>\n",
       "      <td>1476.8662</td>\n",
       "      <td>65503232.0</td>\n",
       "    </tr>\n",
       "    <tr>\n",
       "      <th>2020-06-20 03:12:00</th>\n",
       "      <td>0.0000</td>\n",
       "      <td>0.0</td>\n",
       "      <td>2631457.0</td>\n",
       "      <td>74.637672</td>\n",
       "      <td>0.0</td>\n",
       "      <td>59637.1384</td>\n",
       "      <td>0.0000</td>\n",
       "      <td>403.6869</td>\n",
       "      <td>98.5279</td>\n",
       "      <td>0.0000</td>\n",
       "      <td>65503232.0</td>\n",
       "    </tr>\n",
       "    <tr>\n",
       "      <th>2020-06-20 07:12:00</th>\n",
       "      <td>0.0000</td>\n",
       "      <td>0.0</td>\n",
       "      <td>2623612.0</td>\n",
       "      <td>1.066900</td>\n",
       "      <td>0.0</td>\n",
       "      <td>51087.5918</td>\n",
       "      <td>0.0000</td>\n",
       "      <td>0.0000</td>\n",
       "      <td>86.4194</td>\n",
       "      <td>0.0000</td>\n",
       "      <td>65503232.0</td>\n",
       "    </tr>\n",
       "    <tr>\n",
       "      <th>2020-06-20 09:12:00</th>\n",
       "      <td>10092.5009</td>\n",
       "      <td>0.0</td>\n",
       "      <td>2617932.0</td>\n",
       "      <td>2.033700</td>\n",
       "      <td>0.0</td>\n",
       "      <td>98135.6017</td>\n",
       "      <td>26.5843</td>\n",
       "      <td>6.8921</td>\n",
       "      <td>92.2772</td>\n",
       "      <td>6.8923</td>\n",
       "      <td>65503232.0</td>\n",
       "    </tr>\n",
       "    <tr>\n",
       "      <th>2020-06-20 09:51:00</th>\n",
       "      <td>12118.8631</td>\n",
       "      <td>0.0</td>\n",
       "      <td>2622424.0</td>\n",
       "      <td>2.583900</td>\n",
       "      <td>0.0</td>\n",
       "      <td>155941.9701</td>\n",
       "      <td>3075.2054</td>\n",
       "      <td>62.0320</td>\n",
       "      <td>88.5861</td>\n",
       "      <td>160.4943</td>\n",
       "      <td>65503232.0</td>\n",
       "    </tr>\n",
       "    <tr>\n",
       "      <th>2020-06-20 09:57:00</th>\n",
       "      <td>12791.6031</td>\n",
       "      <td>0.0</td>\n",
       "      <td>2622716.0</td>\n",
       "      <td>74.637672</td>\n",
       "      <td>0.0</td>\n",
       "      <td>204551.9474</td>\n",
       "      <td>783.7398</td>\n",
       "      <td>10.8303</td>\n",
       "      <td>89.1003</td>\n",
       "      <td>28.5527</td>\n",
       "      <td>65503232.0</td>\n",
       "    </tr>\n",
       "    <tr>\n",
       "      <th>2020-06-20 10:01:00</th>\n",
       "      <td>11141.6753</td>\n",
       "      <td>0.0</td>\n",
       "      <td>2621521.0</td>\n",
       "      <td>7.601500</td>\n",
       "      <td>0.0</td>\n",
       "      <td>118663.5242</td>\n",
       "      <td>868.3988</td>\n",
       "      <td>17.7270</td>\n",
       "      <td>88.1179</td>\n",
       "      <td>26.5844</td>\n",
       "      <td>65503232.0</td>\n",
       "    </tr>\n",
       "    <tr>\n",
       "      <th>2020-06-20 10:12:00</th>\n",
       "      <td>7445.2181</td>\n",
       "      <td>0.0</td>\n",
       "      <td>2623967.0</td>\n",
       "      <td>74.637672</td>\n",
       "      <td>0.0</td>\n",
       "      <td>83014.4716</td>\n",
       "      <td>0.9846</td>\n",
       "      <td>0.9846</td>\n",
       "      <td>88.0436</td>\n",
       "      <td>23.6280</td>\n",
       "      <td>65503232.0</td>\n",
       "    </tr>\n",
       "    <tr>\n",
       "      <th>2020-06-20 11:12:00</th>\n",
       "      <td>0.0000</td>\n",
       "      <td>0.0</td>\n",
       "      <td>2622383.0</td>\n",
       "      <td>11.552300</td>\n",
       "      <td>0.0</td>\n",
       "      <td>160661.8359</td>\n",
       "      <td>6.8923</td>\n",
       "      <td>0.0000</td>\n",
       "      <td>96.0378</td>\n",
       "      <td>0.0000</td>\n",
       "      <td>65503232.0</td>\n",
       "    </tr>\n",
       "    <tr>\n",
       "      <th>2020-06-20 11:14:00</th>\n",
       "      <td>0.0000</td>\n",
       "      <td>0.0</td>\n",
       "      <td>2628052.0</td>\n",
       "      <td>13.669400</td>\n",
       "      <td>0.0</td>\n",
       "      <td>137377.9668</td>\n",
       "      <td>0.0000</td>\n",
       "      <td>0.0000</td>\n",
       "      <td>92.4765</td>\n",
       "      <td>0.0000</td>\n",
       "      <td>65503232.0</td>\n",
       "    </tr>\n",
       "    <tr>\n",
       "      <th>2020-06-20 11:30:00</th>\n",
       "      <td>4298.8841</td>\n",
       "      <td>0.0</td>\n",
       "      <td>2621457.0</td>\n",
       "      <td>74.637672</td>\n",
       "      <td>0.0</td>\n",
       "      <td>117521.6422</td>\n",
       "      <td>1.9663</td>\n",
       "      <td>7.8768</td>\n",
       "      <td>83.3126</td>\n",
       "      <td>335.7545</td>\n",
       "      <td>65503232.0</td>\n",
       "    </tr>\n",
       "    <tr>\n",
       "      <th>2020-06-20 11:52:00</th>\n",
       "      <td>18355.2392</td>\n",
       "      <td>0.0</td>\n",
       "      <td>2634616.0</td>\n",
       "      <td>4.284200</td>\n",
       "      <td>0.0</td>\n",
       "      <td>73990.2650</td>\n",
       "      <td>0.0000</td>\n",
       "      <td>0.0000</td>\n",
       "      <td>98.3290</td>\n",
       "      <td>13.7847</td>\n",
       "      <td>65503232.0</td>\n",
       "    </tr>\n",
       "    <tr>\n",
       "      <th>2020-06-20 11:57:00</th>\n",
       "      <td>5868.3558</td>\n",
       "      <td>0.0</td>\n",
       "      <td>2629430.0</td>\n",
       "      <td>1.933700</td>\n",
       "      <td>0.0</td>\n",
       "      <td>390942.9387</td>\n",
       "      <td>1.9691</td>\n",
       "      <td>9.8455</td>\n",
       "      <td>88.0410</td>\n",
       "      <td>2.9532</td>\n",
       "      <td>65503232.0</td>\n",
       "    </tr>\n",
       "    <tr>\n",
       "      <th>2020-06-20 12:12:00</th>\n",
       "      <td>18571.3115</td>\n",
       "      <td>0.0</td>\n",
       "      <td>2620016.0</td>\n",
       "      <td>7.518200</td>\n",
       "      <td>0.0</td>\n",
       "      <td>210805.8718</td>\n",
       "      <td>7.8767</td>\n",
       "      <td>35.4440</td>\n",
       "      <td>99.9741</td>\n",
       "      <td>158.5353</td>\n",
       "      <td>65503232.0</td>\n",
       "    </tr>\n",
       "    <tr>\n",
       "      <th>2020-06-20 13:12:00</th>\n",
       "      <td>14986.7328</td>\n",
       "      <td>0.0</td>\n",
       "      <td>2626699.0</td>\n",
       "      <td>74.637672</td>\n",
       "      <td>0.0</td>\n",
       "      <td>118403.7376</td>\n",
       "      <td>1679.7754</td>\n",
       "      <td>0.0000</td>\n",
       "      <td>100.0000</td>\n",
       "      <td>55.1372</td>\n",
       "      <td>65503232.0</td>\n",
       "    </tr>\n",
       "    <tr>\n",
       "      <th>2020-06-20 23:12:00</th>\n",
       "      <td>21991.1019</td>\n",
       "      <td>0.0</td>\n",
       "      <td>2619095.0</td>\n",
       "      <td>5.967900</td>\n",
       "      <td>0.0</td>\n",
       "      <td>567511.6228</td>\n",
       "      <td>2402.3255</td>\n",
       "      <td>0.0000</td>\n",
       "      <td>100.0000</td>\n",
       "      <td>15.7563</td>\n",
       "      <td>65503232.0</td>\n",
       "    </tr>\n",
       "    <tr>\n",
       "      <th>2020-06-20 23:13:00</th>\n",
       "      <td>20849.5057</td>\n",
       "      <td>0.0</td>\n",
       "      <td>2637776.0</td>\n",
       "      <td>74.637672</td>\n",
       "      <td>0.0</td>\n",
       "      <td>729733.3567</td>\n",
       "      <td>10834.5928</td>\n",
       "      <td>17.7239</td>\n",
       "      <td>97.4171</td>\n",
       "      <td>41.3512</td>\n",
       "      <td>65503232.0</td>\n",
       "    </tr>\n",
       "  </tbody>\n",
       "</table>\n",
       "</div>"
      ],
      "text/plain": [
       "                     SQL Server, Buffer Manager: Page reads/sec  \\\n",
       "Date_Time                                                         \n",
       "2020-06-20 00:12:00                                   1040.6580   \n",
       "2020-06-20 03:12:00                                      0.0000   \n",
       "2020-06-20 07:12:00                                      0.0000   \n",
       "2020-06-20 09:12:00                                  10092.5009   \n",
       "2020-06-20 09:51:00                                  12118.8631   \n",
       "2020-06-20 09:57:00                                  12791.6031   \n",
       "2020-06-20 10:01:00                                  11141.6753   \n",
       "2020-06-20 10:12:00                                   7445.2181   \n",
       "2020-06-20 11:12:00                                      0.0000   \n",
       "2020-06-20 11:14:00                                      0.0000   \n",
       "2020-06-20 11:30:00                                   4298.8841   \n",
       "2020-06-20 11:52:00                                  18355.2392   \n",
       "2020-06-20 11:57:00                                   5868.3558   \n",
       "2020-06-20 12:12:00                                  18571.3115   \n",
       "2020-06-20 13:12:00                                  14986.7328   \n",
       "2020-06-20 23:12:00                                  21991.1019   \n",
       "2020-06-20 23:13:00                                  20849.5057   \n",
       "\n",
       "                     SQL Server, Buffer Manager: Checkpoint pages/sec  \\\n",
       "Date_Time                                                               \n",
       "2020-06-20 00:12:00                                               0.0   \n",
       "2020-06-20 03:12:00                                               0.0   \n",
       "2020-06-20 07:12:00                                               0.0   \n",
       "2020-06-20 09:12:00                                               0.0   \n",
       "2020-06-20 09:51:00                                               0.0   \n",
       "2020-06-20 09:57:00                                               0.0   \n",
       "2020-06-20 10:01:00                                               0.0   \n",
       "2020-06-20 10:12:00                                               0.0   \n",
       "2020-06-20 11:12:00                                               0.0   \n",
       "2020-06-20 11:14:00                                               0.0   \n",
       "2020-06-20 11:30:00                                               0.0   \n",
       "2020-06-20 11:52:00                                               0.0   \n",
       "2020-06-20 11:57:00                                               0.0   \n",
       "2020-06-20 12:12:00                                               0.0   \n",
       "2020-06-20 13:12:00                                               0.0   \n",
       "2020-06-20 23:12:00                                               0.0   \n",
       "2020-06-20 23:13:00                                               0.0   \n",
       "\n",
       "                     SQL Server, Buffer Manager: Database pages  \\\n",
       "Date_Time                                                         \n",
       "2020-06-20 00:12:00                                   2642649.0   \n",
       "2020-06-20 03:12:00                                   2631457.0   \n",
       "2020-06-20 07:12:00                                   2623612.0   \n",
       "2020-06-20 09:12:00                                   2617932.0   \n",
       "2020-06-20 09:51:00                                   2622424.0   \n",
       "2020-06-20 09:57:00                                   2622716.0   \n",
       "2020-06-20 10:01:00                                   2621521.0   \n",
       "2020-06-20 10:12:00                                   2623967.0   \n",
       "2020-06-20 11:12:00                                   2622383.0   \n",
       "2020-06-20 11:14:00                                   2628052.0   \n",
       "2020-06-20 11:30:00                                   2621457.0   \n",
       "2020-06-20 11:52:00                                   2634616.0   \n",
       "2020-06-20 11:57:00                                   2629430.0   \n",
       "2020-06-20 12:12:00                                   2620016.0   \n",
       "2020-06-20 13:12:00                                   2626699.0   \n",
       "2020-06-20 23:12:00                                   2619095.0   \n",
       "2020-06-20 23:13:00                                   2637776.0   \n",
       "\n",
       "                     SQL Server, Buffer Manager: Page life expectancy(PLE)  \\\n",
       "Date_Time                                                                    \n",
       "2020-06-20 00:12:00                                           9.651900       \n",
       "2020-06-20 03:12:00                                          74.637672       \n",
       "2020-06-20 07:12:00                                           1.066900       \n",
       "2020-06-20 09:12:00                                           2.033700       \n",
       "2020-06-20 09:51:00                                           2.583900       \n",
       "2020-06-20 09:57:00                                          74.637672       \n",
       "2020-06-20 10:01:00                                           7.601500       \n",
       "2020-06-20 10:12:00                                          74.637672       \n",
       "2020-06-20 11:12:00                                          11.552300       \n",
       "2020-06-20 11:14:00                                          13.669400       \n",
       "2020-06-20 11:30:00                                          74.637672       \n",
       "2020-06-20 11:52:00                                           4.284200       \n",
       "2020-06-20 11:57:00                                           1.933700       \n",
       "2020-06-20 12:12:00                                           7.518200       \n",
       "2020-06-20 13:12:00                                          74.637672       \n",
       "2020-06-20 23:12:00                                           5.967900       \n",
       "2020-06-20 23:13:00                                          74.637672       \n",
       "\n",
       "                     SQL Server, Buffer Manager: Free list stalls/sec  \\\n",
       "Date_Time                                                               \n",
       "2020-06-20 00:12:00                                               0.0   \n",
       "2020-06-20 03:12:00                                               0.0   \n",
       "2020-06-20 07:12:00                                               0.0   \n",
       "2020-06-20 09:12:00                                               0.0   \n",
       "2020-06-20 09:51:00                                               0.0   \n",
       "2020-06-20 09:57:00                                               0.0   \n",
       "2020-06-20 10:01:00                                               0.0   \n",
       "2020-06-20 10:12:00                                               0.0   \n",
       "2020-06-20 11:12:00                                               0.0   \n",
       "2020-06-20 11:14:00                                               0.0   \n",
       "2020-06-20 11:30:00                                               0.0   \n",
       "2020-06-20 11:52:00                                               0.0   \n",
       "2020-06-20 11:57:00                                               0.0   \n",
       "2020-06-20 12:12:00                                               0.0   \n",
       "2020-06-20 13:12:00                                               0.0   \n",
       "2020-06-20 23:12:00                                               0.0   \n",
       "2020-06-20 23:13:00                                               0.0   \n",
       "\n",
       "                     SQL Server, Buffer Manager: Page lookups/sec  \\\n",
       "Date_Time                                                           \n",
       "2020-06-20 00:12:00                                   148494.5635   \n",
       "2020-06-20 03:12:00                                    59637.1384   \n",
       "2020-06-20 07:12:00                                    51087.5918   \n",
       "2020-06-20 09:12:00                                    98135.6017   \n",
       "2020-06-20 09:51:00                                   155941.9701   \n",
       "2020-06-20 09:57:00                                   204551.9474   \n",
       "2020-06-20 10:01:00                                   118663.5242   \n",
       "2020-06-20 10:12:00                                    83014.4716   \n",
       "2020-06-20 11:12:00                                   160661.8359   \n",
       "2020-06-20 11:14:00                                   137377.9668   \n",
       "2020-06-20 11:30:00                                   117521.6422   \n",
       "2020-06-20 11:52:00                                    73990.2650   \n",
       "2020-06-20 11:57:00                                   390942.9387   \n",
       "2020-06-20 12:12:00                                   210805.8718   \n",
       "2020-06-20 13:12:00                                   118403.7376   \n",
       "2020-06-20 23:12:00                                   567511.6228   \n",
       "2020-06-20 23:13:00                                   729733.3567   \n",
       "\n",
       "                     SQL Server, Buffer Manager: Read-ahead pages/sec  \\\n",
       "Date_Time                                                               \n",
       "2020-06-20 00:12:00                                          303.2603   \n",
       "2020-06-20 03:12:00                                            0.0000   \n",
       "2020-06-20 07:12:00                                            0.0000   \n",
       "2020-06-20 09:12:00                                           26.5843   \n",
       "2020-06-20 09:51:00                                         3075.2054   \n",
       "2020-06-20 09:57:00                                          783.7398   \n",
       "2020-06-20 10:01:00                                          868.3988   \n",
       "2020-06-20 10:12:00                                            0.9846   \n",
       "2020-06-20 11:12:00                                            6.8923   \n",
       "2020-06-20 11:14:00                                            0.0000   \n",
       "2020-06-20 11:30:00                                            1.9663   \n",
       "2020-06-20 11:52:00                                            0.0000   \n",
       "2020-06-20 11:57:00                                            1.9691   \n",
       "2020-06-20 12:12:00                                            7.8767   \n",
       "2020-06-20 13:12:00                                         1679.7754   \n",
       "2020-06-20 23:12:00                                         2402.3255   \n",
       "2020-06-20 23:13:00                                        10834.5928   \n",
       "\n",
       "                     SQL Server, Buffer Manager: Lazy writes/sec  \\\n",
       "Date_Time                                                          \n",
       "2020-06-20 00:12:00                                    1491.6838   \n",
       "2020-06-20 03:12:00                                     403.6869   \n",
       "2020-06-20 07:12:00                                       0.0000   \n",
       "2020-06-20 09:12:00                                       6.8921   \n",
       "2020-06-20 09:51:00                                      62.0320   \n",
       "2020-06-20 09:57:00                                      10.8303   \n",
       "2020-06-20 10:01:00                                      17.7270   \n",
       "2020-06-20 10:12:00                                       0.9846   \n",
       "2020-06-20 11:12:00                                       0.0000   \n",
       "2020-06-20 11:14:00                                       0.0000   \n",
       "2020-06-20 11:30:00                                       7.8768   \n",
       "2020-06-20 11:52:00                                       0.0000   \n",
       "2020-06-20 11:57:00                                       9.8455   \n",
       "2020-06-20 12:12:00                                      35.4440   \n",
       "2020-06-20 13:12:00                                       0.0000   \n",
       "2020-06-20 23:12:00                                       0.0000   \n",
       "2020-06-20 23:13:00                                      17.7239   \n",
       "\n",
       "                     SQL Server, Buffer Manager: % Buffer cache hit ratio  \\\n",
       "Date_Time                                                                   \n",
       "2020-06-20 00:12:00                                            94.1072      \n",
       "2020-06-20 03:12:00                                            98.5279      \n",
       "2020-06-20 07:12:00                                            86.4194      \n",
       "2020-06-20 09:12:00                                            92.2772      \n",
       "2020-06-20 09:51:00                                            88.5861      \n",
       "2020-06-20 09:57:00                                            89.1003      \n",
       "2020-06-20 10:01:00                                            88.1179      \n",
       "2020-06-20 10:12:00                                            88.0436      \n",
       "2020-06-20 11:12:00                                            96.0378      \n",
       "2020-06-20 11:14:00                                            92.4765      \n",
       "2020-06-20 11:30:00                                            83.3126      \n",
       "2020-06-20 11:52:00                                            98.3290      \n",
       "2020-06-20 11:57:00                                            88.0410      \n",
       "2020-06-20 12:12:00                                            99.9741      \n",
       "2020-06-20 13:12:00                                           100.0000      \n",
       "2020-06-20 23:12:00                                           100.0000      \n",
       "2020-06-20 23:13:00                                            97.4171      \n",
       "\n",
       "                     SQL Server, Buffer Manager: Page writes/sec  \\\n",
       "Date_Time                                                          \n",
       "2020-06-20 00:12:00                                    1476.8662   \n",
       "2020-06-20 03:12:00                                       0.0000   \n",
       "2020-06-20 07:12:00                                       0.0000   \n",
       "2020-06-20 09:12:00                                       6.8923   \n",
       "2020-06-20 09:51:00                                     160.4943   \n",
       "2020-06-20 09:57:00                                      28.5527   \n",
       "2020-06-20 10:01:00                                      26.5844   \n",
       "2020-06-20 10:12:00                                      23.6280   \n",
       "2020-06-20 11:12:00                                       0.0000   \n",
       "2020-06-20 11:14:00                                       0.0000   \n",
       "2020-06-20 11:30:00                                     335.7545   \n",
       "2020-06-20 11:52:00                                      13.7847   \n",
       "2020-06-20 11:57:00                                       2.9532   \n",
       "2020-06-20 12:12:00                                     158.5353   \n",
       "2020-06-20 13:12:00                                      55.1372   \n",
       "2020-06-20 23:12:00                                      15.7563   \n",
       "2020-06-20 23:13:00                                      41.3512   \n",
       "\n",
       "                     SQL Server, Buffer Manager: Target pages  \n",
       "Date_Time                                                      \n",
       "2020-06-20 00:12:00                                65503232.0  \n",
       "2020-06-20 03:12:00                                65503232.0  \n",
       "2020-06-20 07:12:00                                65503232.0  \n",
       "2020-06-20 09:12:00                                65503232.0  \n",
       "2020-06-20 09:51:00                                65503232.0  \n",
       "2020-06-20 09:57:00                                65503232.0  \n",
       "2020-06-20 10:01:00                                65503232.0  \n",
       "2020-06-20 10:12:00                                65503232.0  \n",
       "2020-06-20 11:12:00                                65503232.0  \n",
       "2020-06-20 11:14:00                                65503232.0  \n",
       "2020-06-20 11:30:00                                65503232.0  \n",
       "2020-06-20 11:52:00                                65503232.0  \n",
       "2020-06-20 11:57:00                                65503232.0  \n",
       "2020-06-20 12:12:00                                65503232.0  \n",
       "2020-06-20 13:12:00                                65503232.0  \n",
       "2020-06-20 23:12:00                                65503232.0  \n",
       "2020-06-20 23:13:00                                65503232.0  "
      ]
     },
     "execution_count": 23,
     "metadata": {},
     "output_type": "execute_result"
    }
   ],
   "source": [
    "data_11[(data_11.index >= '2020-06-20 00:0:00') & (data_11.index <= '2020-06-21 00:00:00') & (data_11['Anomaly'] == -1)][buffer_col]"
   ]
  },
  {
   "cell_type": "markdown",
   "metadata": {},
   "source": [
    "# Feature importance"
   ]
  },
  {
   "cell_type": "code",
   "execution_count": 24,
   "metadata": {},
   "outputs": [
    {
     "name": "stderr",
     "output_type": "stream",
     "text": [
      "The sklearn.ensemble.iforest module is  deprecated in version 0.22 and will be removed in version 0.24. The corresponding classes / functions should instead be imported from sklearn.ensemble. Anything that cannot be imported from sklearn.ensemble is now part of the private API.\n"
     ]
    },
    {
     "data": {
      "image/png": "[encoded data removed]",
      "text/plain": [
       "<Figure size 576x684 with 2 Axes>"
      ]
     },
     "metadata": {
      "needs_background": "light"
     },
     "output_type": "display_data"
    }
   ],
   "source": [
    "# Create shap values and plot them\n",
    "X_explain = data_11_scaled\n",
    "shap_values = shap.TreeExplainer(model_11).shap_values(X_explain)\n",
    "shap.summary_plot(shap_values, X_explain)"
   ]
  },
  {
   "cell_type": "code",
   "execution_count": 25,
   "metadata": {},
   "outputs": [
    {
     "data": {
      "text/plain": [
       "'Free disk space on J:\\\\LOGS'"
      ]
     },
     "execution_count": 25,
     "metadata": {},
     "output_type": "execute_result"
    }
   ],
   "source": [
    "data_11.columns[40]"
   ]
  },
  {
   "cell_type": "code",
   "execution_count": 26,
   "metadata": {},
   "outputs": [
    {
     "data": {
      "text/plain": [
       "-0.8026837029985774"
      ]
     },
     "execution_count": 26,
     "metadata": {},
     "output_type": "execute_result"
    }
   ],
   "source": [
    "min(shap_values[0,:])"
   ]
  },
  {
   "cell_type": "code",
   "execution_count": 27,
   "metadata": {},
   "outputs": [],
   "source": [
    "# Test with one row"
   ]
  },
  {
   "cell_type": "code",
   "execution_count": 28,
   "metadata": {},
   "outputs": [],
   "source": [
    "test_row = [858990247936,96633552896,5365497856,289907081216,0,382.956,49621736,0,16313745408,5365497856,0,13668253696,46192852992,75158716416,0.0021,6954760,21471625216,0,2633911,5365497856,16557211648,30.9895,837515411456,0,0.0236,0,437956,107370971136,1.9692,0,173150208,133287.8075,10573736,7.8771,38697111552,4518313984,0,29365043200,85896134656,115.271953540369,4803395584,5365497856,22805544960,2144272384,49699752,246957408256,0.213129133679592,0,42946461696,5013569536,26715750400,42946523136,455.8682,19713687552,0,5365497856,0,0,13337.3387,27748794368,268432244736,1151.9871,27726040000,1185.4996,1.9692,3943956480,46456.2105,0,32209043456,10592360,6907756544,4852416512,29360128000,5365497856,35200958464,171795480576,1.4,56161232,1729626112,5365497856,0,96633552896,47711125504,41.3486,17.7228,4256563200,12236161024,24.6152,22274179072,1.9394,0,0.9847,5365497856,5365497856,99.9944,39409876992,5365497856,3.9382,26840334336,9.8463,891202502656,1,17070,21505114112,92226650112,65503232,0,137.8484,524283904,80527425536,1.39864826205191,46040244224,0,3555231132,106846744576,18870435840,0,0,29597584000,85896134656,1053163520,0,171795480576,12473270272,1931550720,107370971136,0,5037883392,40367095808,3435790336,4689887232,30799953920,0,13965066240,91.5377]"
   ]
  },
  {
   "cell_type": "code",
   "execution_count": 29,
   "metadata": {},
   "outputs": [
    {
     "data": {
      "text/plain": [
       "array([-1])"
      ]
     },
     "execution_count": 29,
     "metadata": {},
     "output_type": "execute_result"
    }
   ],
   "source": [
    "# np.array(test_row).reshape(1,135)\n",
    "model_11.predict(scaler.transform(np.array(test_row).reshape(1,135)))"
   ]
  },
  {
   "cell_type": "code",
   "execution_count": 30,
   "metadata": {},
   "outputs": [],
   "source": [
    "explainer = shap.TreeExplainer(model_11)"
   ]
  },
  {
   "cell_type": "code",
   "execution_count": 31,
   "metadata": {},
   "outputs": [
    {
     "data": {
      "text/plain": [
       "(45270, 135)"
      ]
     },
     "execution_count": 31,
     "metadata": {},
     "output_type": "execute_result"
    }
   ],
   "source": [
    "shap_values.shape"
   ]
  },
  {
   "cell_type": "code",
   "execution_count": 36,
   "metadata": {},
   "outputs": [],
   "source": [
    "# visualize the first prediction's explanation (use matplotlib=True to avoid Javascript)\n",
    "# shap.force_plot(explainer.expected_value, shap_values[0,:], X.iloc[0,:])"
   ]
  },
  {
   "cell_type": "code",
   "execution_count": 33,
   "metadata": {},
   "outputs": [],
   "source": [
    "X_explain_test = scaler.transform(np.array(test_row).reshape(1,135))\n",
    "# model_11.predict(scaler.transform(np.array(test_row).reshape(1,135)))"
   ]
  },
  {
   "cell_type": "code",
   "execution_count": 87,
   "metadata": {},
   "outputs": [
    {
     "data": {
      "image/png": "[encoded data removed]",
      "text/plain": [
       "<Figure size 576x684 with 2 Axes>"
      ]
     },
     "metadata": {
      "needs_background": "light"
     },
     "output_type": "display_data"
    }
   ],
   "source": [
    "shap_values_test = explainer.shap_values(X_explain_test)#,check_additivity=False ) # check_additivity=False # feature_perturbation='interventional\n",
    "# shap.summary_plot(shap_values, X_explain_test)\n",
    "\n",
    "shap.summary_plot(shap_values_test, X_explain_test)"
   ]
  },
  {
   "cell_type": "code",
   "execution_count": 93,
   "metadata": {},
   "outputs": [],
   "source": [
    "# shap.dependence_plot(\"Feature 60\", shap_values_test, X_explain_test)"
   ]
  },
  {
   "cell_type": "code",
   "execution_count": 41,
   "metadata": {},
   "outputs": [
    {
     "data": {
      "text/plain": [
       "(1, 135)"
      ]
     },
     "execution_count": 41,
     "metadata": {},
     "output_type": "execute_result"
    }
   ],
   "source": [
    "shap_values_test.shape"
   ]
  },
  {
   "cell_type": "code",
   "execution_count": 78,
   "metadata": {},
   "outputs": [
    {
     "data": {
      "text/plain": [
       "-0.8027392696310567"
      ]
     },
     "execution_count": 78,
     "metadata": {},
     "output_type": "execute_result"
    }
   ],
   "source": [
    "shap_values_test[0][83]"
   ]
  },
  {
   "cell_type": "code",
   "execution_count": 79,
   "metadata": {},
   "outputs": [
    {
     "data": {
      "text/plain": [
       "(array([0]), array([83]))"
      ]
     },
     "execution_count": 79,
     "metadata": {},
     "output_type": "execute_result"
    }
   ],
   "source": [
    "np.where(shap_values_test == np.min(shap_values_test[0]))"
   ]
  },
  {
   "cell_type": "code",
   "execution_count": 62,
   "metadata": {},
   "outputs": [
    {
     "data": {
      "text/plain": [
       "array([[0.        , 0.02055086]])"
      ]
     },
     "execution_count": 62,
     "metadata": {},
     "output_type": "execute_result"
    }
   ],
   "source": [
    "shap_values_test[:,79:81]"
   ]
  },
  {
   "cell_type": "code",
   "execution_count": 86,
   "metadata": {},
   "outputs": [
    {
     "data": {
      "text/plain": [
       "(135,)"
      ]
     },
     "execution_count": 86,
     "metadata": {},
     "output_type": "execute_result"
    }
   ],
   "source": []
  },
  {
   "cell_type": "code",
   "execution_count": 96,
   "metadata": {},
   "outputs": [
    {
     "data": {
      "text/plain": [
       "Index(['SQL Server, Statistics: Auto-Param Attempts/sec',\n",
       "       'Total disk space on P:', 'Free disk space on J:\\LOGS',\n",
       "       'Total disk space on Q:', 'Total disk space on V:',\n",
       "       'Total disk space on F:'],\n",
       "      dtype='object')"
      ]
     },
     "execution_count": 96,
     "metadata": {},
     "output_type": "execute_result"
    }
   ],
   "source": [
    "data_11.columns[[83,60,40,45,100,22]]"
   ]
  },
  {
   "cell_type": "code",
   "execution_count": 95,
   "metadata": {},
   "outputs": [
    {
     "data": {
      "text/plain": [
       "0.06170652200800937"
      ]
     },
     "execution_count": 95,
     "metadata": {},
     "output_type": "execute_result"
    }
   ],
   "source": [
    "np.max(shap_values_test2)"
   ]
  },
  {
   "cell_type": "code",
   "execution_count": 97,
   "metadata": {},
   "outputs": [
    {
     "data": {
      "image/png": "[encoded data removed]",
      "text/plain": [
       "<Figure size 576x684 with 1 Axes>"
      ]
     },
     "metadata": {
      "needs_background": "light"
     },
     "output_type": "display_data"
    }
   ],
   "source": [
    "X_explain_test2 = data_11_scaled[0,:].reshape(1,135)\n",
    "shap_values_test2 = explainer.shap_values(X_explain_test2)#,check_additivity=False ) # check_additivity=False # feature_perturbation='interventional\n",
    "# shap.summary_plot(shap_values, X_explain_test)\n",
    "\n",
    "shap.summary_plot(shap_values_test2, X_explain_test2, plot_type = 'bar')"
   ]
  },
  {
   "cell_type": "code",
   "execution_count": 98,
   "metadata": {},
   "outputs": [
    {
     "data": {
      "image/png": "[encoded data removed]",
      "text/plain": [
       "<Figure size 576x684 with 1 Axes>"
      ]
     },
     "metadata": {
      "needs_background": "light"
     },
     "output_type": "display_data"
    }
   ],
   "source": [
    "X_explain_test3 = pd.DataFrame(data=data_11_scaled[0,:].reshape(1,135), columns = df_11.columns)\n",
    "shap_values_test3 = explainer.shap_values(X_explain_test3)#,check_additivity=False ) # check_additivity=False # feature_perturbation='interventional\n",
    "# shap.summary_plot(shap_values, X_explain_test)\n",
    "\n",
    "shap.summary_plot(shap_values_test3, X_explain_test3, plot_type = 'bar')"
   ]
  },
  {
   "cell_type": "code",
   "execution_count": 101,
   "metadata": {},
   "outputs": [
    {
     "name": "stdout",
     "output_type": "stream",
     "text": [
      "-0.8026837029985774\n",
      "-0.8026837029985774\n"
     ]
    }
   ],
   "source": [
    "print(np.min(shap_values_test3))\n",
    "print(np.min(shap_values_test2))"
   ]
  },
  {
   "cell_type": "code",
   "execution_count": 102,
   "metadata": {},
   "outputs": [
    {
     "data": {
      "text/plain": [
       "(array([0]), array([40]))"
      ]
     },
     "execution_count": 102,
     "metadata": {},
     "output_type": "execute_result"
    }
   ],
   "source": [
    "np.where(shap_values_test2 == np.min(shap_values_test2))"
   ]
  },
  {
   "cell_type": "code",
   "execution_count": 104,
   "metadata": {},
   "outputs": [
    {
     "data": {
      "text/plain": [
       "(array([0]), array([40]))"
      ]
     },
     "execution_count": 104,
     "metadata": {},
     "output_type": "execute_result"
    }
   ],
   "source": [
    "np.where(shap_values_test3 == np.min(shap_values_test3))"
   ]
  },
  {
   "cell_type": "code",
   "execution_count": 105,
   "metadata": {},
   "outputs": [
    {
     "data": {
      "text/plain": [
       "(array([0]), array([83]))"
      ]
     },
     "execution_count": 105,
     "metadata": {},
     "output_type": "execute_result"
    }
   ],
   "source": [
    "np.where(shap_values_test == np.min(shap_values_test))"
   ]
  },
  {
   "cell_type": "code",
   "execution_count": 127,
   "metadata": {},
   "outputs": [
    {
     "data": {
      "text/plain": [
       "40"
      ]
     },
     "execution_count": 127,
     "metadata": {},
     "output_type": "execute_result"
    }
   ],
   "source": [
    "sort_np = np.sort(shap_values_test)[0]\n",
    "np.where(shap_values_test == sort_np[2])[1][0]"
   ]
  },
  {
   "cell_type": "code",
   "execution_count": 130,
   "metadata": {},
   "outputs": [
    {
     "data": {
      "text/plain": [
       "array([-0.80273927, -0.7650722 , -0.61413302, -0.58266804, -0.43246144])"
      ]
     },
     "execution_count": 130,
     "metadata": {},
     "output_type": "execute_result"
    }
   ],
   "source": [
    "sort_np[0:5]"
   ]
  }
 ],
 "metadata": {
  "kernelspec": {
   "display_name": "Python 3",
   "language": "python",
   "name": "python3"
  },
  "language_info": {
   "codemirror_mode": {
    "name": "ipython",
    "version": 3
   },
   "file_extension": ".py",
   "mimetype": "text/x-python",
   "name": "python",
   "nbconvert_exporter": "python",
   "pygments_lexer": "ipython3",
   "version": "3.8.3"
  }
 },
 "nbformat": 4,
 "nbformat_minor": 4
}
